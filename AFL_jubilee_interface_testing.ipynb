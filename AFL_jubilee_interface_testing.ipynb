{
 "cells": [
  {
   "cell_type": "code",
   "execution_count": 1,
   "id": "7358347d-df89-49b8-97a3-861f54004c7a",
   "metadata": {},
   "outputs": [],
   "source": [
    "%load_ext autoreload\n",
    "%autoreload 2"
   ]
  },
  {
   "cell_type": "markdown",
   "id": "b0d46070-6756-4ff8-9e1f-1df4c40b5adb",
   "metadata": {},
   "source": [
    "Current issue 3/4/25: Jubilee pressure cell doesn't have pump set up right, throwing errors on the AFL side of things. Integration otherwise seems to work OK"
   ]
  },
  {
   "cell_type": "code",
   "execution_count": 2,
   "id": "57121cf4-4def-42c2-8a2b-705936a9b15c",
   "metadata": {},
   "outputs": [],
   "source": [
    "import requests\n",
    "\n",
    "# ----------- Science Jubilee -------------\n",
    "from science_jubilee import Machine as Jub\n",
    "from science_jubilee.tools import HTTPSyringe as syringe\n",
    "from science_jubilee.tools import Pipette\n",
    "from science_jubilee.utils import Handlers\n",
    "from science_jubilee.tools import PneumaticSampleLoader\n",
    "import time\n",
    "import numpy as np\n",
    "\n",
    "import logging\n",
    "import sys\n"
   ]
  },
  {
   "cell_type": "code",
   "execution_count": 3,
   "id": "ae5442d8-aa32-40f8-80c0-d9fdf5c0da99",
   "metadata": {},
   "outputs": [],
   "source": [
    "\n",
    "import requests"
   ]
  },
  {
   "cell_type": "code",
   "execution_count": 4,
   "id": "27308cfd-25a7-4809-b731-45f4c168eccd",
   "metadata": {},
   "outputs": [],
   "source": [
    "r = requests.get('http://192.168.1.2/rr_connect')"
   ]
  },
  {
   "cell_type": "code",
   "execution_count": 5,
   "id": "bb7dbac9-9bd0-400f-ab10-972676b93472",
   "metadata": {},
   "outputs": [
    {
     "data": {
      "text/plain": [
       "b'<html>\\n<head>\\n</head>\\n<body>\\n<p style=\"font-size: 16pt; text-align: center; margin-top:50px\">Your Duet rejected the HTTP request: Unknown request</p>\\n</body>\\n'"
      ]
     },
     "execution_count": 5,
     "metadata": {},
     "output_type": "execute_result"
    }
   ],
   "source": [
    "\n",
    "r.content"
   ]
  },
  {
   "cell_type": "code",
   "execution_count": 6,
   "id": "e1312b34-f8cf-422b-878b-b6aeb5c53664",
   "metadata": {},
   "outputs": [
    {
     "name": "stdout",
     "output_type": "stream",
     "text": [
      "0\n",
      "response text in gcode:  {\"key\":\"move.axes[].homed\",\"flags\":\"\",\"result\":[true,true,true,true],\"next\":0}\n",
      "\n",
      "response in connect:  [True, True, True, True]\n",
      "response text in gcode:  {\"key\":\"move.axes[]\",\"flags\":\"\",\"result\":[{\"acceleration\":1500.0,\"babystep\":0,\"current\":3005,\"drivers\":[\"1.0\"],\"homed\":true,\"jerk\":500.0,\"letter\":\"X\",\"machinePosition\":6.000,\"max\":313.75,\"maxProbed\":false,\"microstepping\":{\"interpolated\":true,\"value\":16},\"min\":-13.75,\"minProbed\":false,\"percentCurrent\":100,\"percentStstCurrent\":75,\"speed\":18000.0,\"stepsPerMm\":200.00,\"userPosition\":5.000,\"visible\":true,\"workplaceOffsets\":[0,0,0,0,0,0,0,0,0]},{\"acceleration\":1500.0,\"babystep\":0,\"current\":3005,\"drivers\":[\"1.1\"],\"homed\":true,\"jerk\":500.0,\"letter\":\"Y\",\"machinePosition\":164.800,\"max\":341.00,\"maxProbed\":false,\"microstepping\":{\"interpolated\":true,\"value\":16},\"min\":-44.00,\"minProbed\":false,\"percentCurrent\":100,\"percentStstCurrent\":75,\"speed\":18000.0,\"stepsPerMm\":200.00,\"userPosition\":200.000,\"visible\":true,\"workplaceOffsets\":[0,0,0,0,0,0,0,0,0]},{\"acceleration\":100.0,\"babystep\":0,\"current\":1663,\"drivers\":[\"0.2\",\"0.3\",\"0.4\"],\"homed\":true,\"jerk\":500.0,\"letter\":\"Z\",\"machinePosition\":278.500,\"max\":300.00,\"maxProbed\":false,\"microstepping\":{\"interpolated\":true,\"value\":16},\"min\":0,\"minProbed\":false,\"percentCurrent\":100,\"percentStstCurrent\":75,\"speed\":1600.0,\"stepsPerMm\":1600.00,\"userPosition\":100.000,\"visible\":true,\"workplaceOffsets\":[0,0,0,0,0,0,0,0,0]},{\"acceleration\":800.0,\"babystep\":0,\"current\":670,\"drivers\":[\"0.1\"],\"homed\":true,\"jerk\":50.0,\"letter\":\"U\",\"machinePosition\":15.000,\"max\":200.00,\"maxProbed\":false,\"microstepping\":{\"interpolated\":true,\"value\":4},\"min\":0,\"minProbed\":false,\"percentCurrent\":100,\"percentStstCurrent\":75,\"speed\":9000.0,\"stepsPerMm\":30.58,\"userPosition\":15.000,\"visible\":true,\"workplaceOffsets\":[0,0,0,0,0,0,0,0,0]}],\"next\":0}\n",
      "\n",
      "response text in gcode:  Tool 2 is selected\n",
      "\n",
      "response text in gcode:  {\"key\":\"tools\",\"flags\":\"\",\"result\":[null,{\"active\":[],\"axes\":[[0],[1]],\"extruders\":[],\"fans\":[0],\"feedForward\":[],\"filamentExtruder\":-1,\"heaters\":[],\"isRetracted\":false,\"mix\":[],\"name\":\"Syringe_1\",\"number\":1,\"offsets\":[-2.000,37.900,-161.500,0],\"offsetsProbed\":0,\"retraction\":{\"extraRestart\":0,\"length\":2.0,\"speed\":16.7,\"unretractSpeed\":16.7,\"zHop\":0},\"spindle\":-1,\"spindleRpm\":0,\"standby\":[],\"state\":\"standby\"},{\"active\":[],\"axes\":[[0],[1]],\"extruders\":[],\"fans\":[0],\"feedForward\":[],\"filamentExtruder\":-1,\"heaters\":[],\"isRetracted\":false,\"mix\":[],\"name\":\"Syringe_2\",\"number\":2,\"offsets\":[-1.000,35.200,-178.500,0],\"offsetsProbed\":0,\"retraction\":{\"extraRestart\":0,\"length\":2.0,\"speed\":16.7,\"unretractSpeed\":16.7,\"zHop\":0},\"spindle\":-1,\"spindleRpm\":0,\"standby\":[],\"state\":\"active\"},{\"active\":[],\"axes\":[[0],[1]],\"extruders\":[],\"fans\":[0],\"feedForward\":[],\"filamentExtruder\":-1,\"heaters\":[],\"isRetracted\":false,\"mix\":[],\"name\":\"Syringe_3\",\"number\":3,\"offsets\":[-1.500,31.700,-168.000,0],\"offsetsProbed\":0,\"retraction\":{\"extraRestart\":0,\"length\":2.0,\"speed\":16.7,\"unretractSpeed\":16.7,\"zHop\":0},\"spindle\":-1,\"spindleRpm\":0,\"standby\":[],\"state\":\"off\"},{\"active\":[],\"axes\":[[0],[1]],\"extruders\":[],\"fans\":[0],\"feedForward\":[],\"filamentExtruder\":-1,\"heaters\":[],\"isRetracted\":false,\"mix\":[],\"name\":\"Syringe_4\",\"number\":4,\"offsets\":[-3.300,31.300,-168.750,0],\"offsetsProbed\":0,\"retraction\":{\"extraRestart\":0,\"length\":2.0,\"speed\":16.7,\"unretractSpeed\":16.7,\"zHop\":0},\"spindle\":-1,\"spindleRpm\":0,\"standby\":[],\"state\":\"standby\"}],\"next\":0}\n",
      "\n",
      "response text in gcode:  {\"key\":\"tools\",\"flags\":\"\",\"result\":[null,{\"active\":[],\"axes\":[[0],[1]],\"extruders\":[],\"fans\":[0],\"feedForward\":[],\"filamentExtruder\":-1,\"heaters\":[],\"isRetracted\":false,\"mix\":[],\"name\":\"Syringe_1\",\"number\":1,\"offsets\":[-2.000,37.900,-161.500,0],\"offsetsProbed\":0,\"retraction\":{\"extraRestart\":0,\"length\":2.0,\"speed\":16.7,\"unretractSpeed\":16.7,\"zHop\":0},\"spindle\":-1,\"spindleRpm\":0,\"standby\":[],\"state\":\"standby\"},{\"active\":[],\"axes\":[[0],[1]],\"extruders\":[],\"fans\":[0],\"feedForward\":[],\"filamentExtruder\":-1,\"heaters\":[],\"isRetracted\":false,\"mix\":[],\"name\":\"Syringe_2\",\"number\":2,\"offsets\":[-1.000,35.200,-178.500,0],\"offsetsProbed\":0,\"retraction\":{\"extraRestart\":0,\"length\":2.0,\"speed\":16.7,\"unretractSpeed\":16.7,\"zHop\":0},\"spindle\":-1,\"spindleRpm\":0,\"standby\":[],\"state\":\"active\"},{\"active\":[],\"axes\":[[0],[1]],\"extruders\":[],\"fans\":[0],\"feedForward\":[],\"filamentExtruder\":-1,\"heaters\":[],\"isRetracted\":false,\"mix\":[],\"name\":\"Syringe_3\",\"number\":3,\"offsets\":[-1.500,31.700,-168.000,0],\"offsetsProbed\":0,\"retraction\":{\"extraRestart\":0,\"length\":2.0,\"speed\":16.7,\"unretractSpeed\":16.7,\"zHop\":0},\"spindle\":-1,\"spindleRpm\":0,\"standby\":[],\"state\":\"off\"},{\"active\":[],\"axes\":[[0],[1]],\"extruders\":[],\"fans\":[0],\"feedForward\":[],\"filamentExtruder\":-1,\"heaters\":[],\"isRetracted\":false,\"mix\":[],\"name\":\"Syringe_4\",\"number\":4,\"offsets\":[-3.300,31.300,-168.750,0],\"offsetsProbed\":0,\"retraction\":{\"extraRestart\":0,\"length\":2.0,\"speed\":16.7,\"unretractSpeed\":16.7,\"zHop\":0},\"spindle\":-1,\"spindleRpm\":0,\"standby\":[],\"state\":\"standby\"}],\"next\":0}\n",
      "\n",
      "response text in gcode:  {\"key\":\"move.axes\",\"flags\":\"\",\"result\":[{\"acceleration\":1500.0,\"babystep\":0,\"current\":3005,\"drivers\":[\"1.0\"],\"homed\":true,\"jerk\":500.0,\"letter\":\"X\",\"machinePosition\":6.000,\"max\":313.75,\"maxProbed\":false,\"microstepping\":{\"interpolated\":true,\"value\":16},\"min\":-13.75,\"minProbed\":false,\"percentCurrent\":100,\"percentStstCurrent\":75,\"speed\":18000.0,\"stepsPerMm\":200.00,\"userPosition\":5.000,\"visible\":true,\"workplaceOffsets\":[0,0,0,0,0,0,0,0,0]},{\"acceleration\":1500.0,\"babystep\":0,\"current\":3005,\"drivers\":[\"1.1\"],\"homed\":true,\"jerk\":500.0,\"letter\":\"Y\",\"machinePosition\":164.800,\"max\":341.00,\"maxProbed\":false,\"microstepping\":{\"interpolated\":true,\"value\":16},\"min\":-44.00,\"minProbed\":false,\"percentCurrent\":100,\"percentStstCurrent\":75,\"speed\":18000.0,\"stepsPerMm\":200.00,\"userPosition\":200.000,\"visible\":true,\"workplaceOffsets\":[0,0,0,0,0,0,0,0,0]},{\"acceleration\":100.0,\"babystep\":0,\"current\":1663,\"drivers\":[\"0.2\",\"0.3\",\"0.4\"],\"homed\":true,\"jerk\":500.0,\"letter\":\"Z\",\"machinePosition\":278.500,\"max\":300.00,\"maxProbed\":false,\"microstepping\":{\"interpolated\":true,\"value\":16},\"min\":0,\"minProbed\":false,\"percentCurrent\":100,\"percentStstCurrent\":75,\"speed\":1600.0,\"stepsPerMm\":1600.00,\"userPosition\":100.000,\"visible\":true,\"workplaceOffsets\":[0,0,0,0,0,0,0,0,0]},{\"acceleration\":800.0,\"babystep\":0,\"current\":670,\"drivers\":[\"0.1\"],\"homed\":true,\"jerk\":50.0,\"letter\":\"U\",\"machinePosition\":15.000,\"max\":200.00,\"maxProbed\":false,\"microstepping\":{\"interpolated\":true,\"value\":4},\"min\":0,\"minProbed\":false,\"percentCurrent\":100,\"percentStstCurrent\":75,\"speed\":9000.0,\"stepsPerMm\":30.58,\"userPosition\":15.000,\"visible\":true,\"workplaceOffsets\":[0,0,0,0,0,0,0,0,0]}],\"next\":0}\n",
      "\n",
      "response text in gcode:  \n",
      "\n",
      "response text in gcode:  \n",
      "\n"
     ]
    }
   ],
   "source": [
    "jubilee = Jub.Machine(address='192.168.1.2', simulated = False, crash_detection = False) "
   ]
  },
  {
   "cell_type": "raw",
   "id": "1bf82618-3eb3-4894-9ca4-77a9c2d18039",
   "metadata": {},
   "source": [
    "jubilee.home_all()"
   ]
  },
  {
   "cell_type": "code",
   "execution_count": 7,
   "id": "88b2a0aa-e3fd-4835-82ce-f44cf1d4f622",
   "metadata": {},
   "outputs": [],
   "source": [
    "deck = jubilee.load_deck('lab_automation_deck_AFL_bolton.json')"
   ]
  },
  {
   "cell_type": "code",
   "execution_count": 8,
   "id": "f8fea490-ab44-48a0-97f0-d40b78464c58",
   "metadata": {},
   "outputs": [],
   "source": [
    "safe_pos = (5, 200, 100)\n",
    "cell_pos = (200, 50, 20)\n",
    "url = 'http://192.168.1.4'\n",
    "port = '5000'\n",
    "name = 'PSL'\n",
    "username = 'test'\n",
    "password = 'domo_arigato'"
   ]
  },
  {
   "cell_type": "code",
   "execution_count": 9,
   "id": "a5d1ffab-2e3f-4a80-b5a9-f37a546b34b9",
   "metadata": {},
   "outputs": [
    {
     "name": "stdout",
     "output_type": "stream",
     "text": [
      "response text in gcode:  \n",
      "\n",
      "response text in gcode:  \n",
      "\n",
      "response text in gcode:  \n",
      "\n"
     ]
    }
   ],
   "source": [
    "jubilee.move_to(x = safe_pos[0], y = safe_pos[1], z = safe_pos[2])"
   ]
  },
  {
   "cell_type": "code",
   "execution_count": 10,
   "id": "229f5228-51eb-46f3-b8c3-9da558ff993e",
   "metadata": {},
   "outputs": [
    {
     "ename": "SyntaxError",
     "evalue": "invalid syntax (171782135.py, line 1)",
     "output_type": "error",
     "traceback": [
      "\u001b[0;36m  Cell \u001b[0;32mIn[10], line 1\u001b[0;36m\u001b[0m\n\u001b[0;31m    jubilee.\u001b[0m\n\u001b[0m            ^\u001b[0m\n\u001b[0;31mSyntaxError\u001b[0m\u001b[0;31m:\u001b[0m invalid syntax\n"
     ]
    }
   ],
   "source": [
    "jubilee."
   ]
  },
  {
   "cell_type": "code",
   "execution_count": 11,
   "id": "431910f2-96b7-40e4-a9ef-7e1d473d4481",
   "metadata": {},
   "outputs": [
    {
     "name": "stdout",
     "output_type": "stream",
     "text": [
      "status r code 200\n",
      "status:  b'[\"State: READY\",\"Arm State: UP\",\"Rinse 1 tank: 950 mL\",\"Rinse 2 tank: 950 mL\",\"Waste tank: 0 mL\",\"Relay status: {\\'arm-up\\': True, \\'arm-down\\': False, \\'rinse1\\': False, \\'rinse2\\': False, \\'blow\\': False, \\'piston-vent\\': True, \\'postsample\\': False}\",\"Not Rinsing\",\"No action yet...\"]\\n'\n"
     ]
    }
   ],
   "source": [
    "psl = PneumaticSampleLoader.PneumaticSampleLoader(url, port, name, cell_pos, safe_pos, username, password)"
   ]
  },
  {
   "cell_type": "code",
   "execution_count": 12,
   "id": "1a2ee261-7179-4528-ad1e-170db637b577",
   "metadata": {},
   "outputs": [],
   "source": [
    "syringe_10 = syringe.HTTPSyringe.from_config(2, \"../science-jubilee/src/science_jubilee/tools/configs/10cc_syringe.json\")"
   ]
  },
  {
   "cell_type": "code",
   "execution_count": 13,
   "id": "3a03e0cf-af44-4511-8578-5a27e45f8202",
   "metadata": {},
   "outputs": [
    {
     "name": "stdout",
     "output_type": "stream",
     "text": [
      "response text in gcode:  {\"key\":\"tools\",\"flags\":\"\",\"result\":[null,{\"active\":[],\"axes\":[[0],[1]],\"extruders\":[],\"fans\":[0],\"feedForward\":[],\"filamentExtruder\":-1,\"heaters\":[],\"isRetracted\":false,\"mix\":[],\"name\":\"Syringe_1\",\"number\":1,\"offsets\":[-2.000,37.900,-161.500,0],\"offsetsProbed\":0,\"retraction\":{\"extraRestart\":0,\"length\":2.0,\"speed\":16.7,\"unretractSpeed\":16.7,\"zHop\":0},\"spindle\":-1,\"spindleRpm\":0,\"standby\":[],\"state\":\"standby\"},{\"active\":[],\"axes\":[[0],[1]],\"extruders\":[],\"fans\":[0],\"feedForward\":[],\"filamentExtruder\":-1,\"heaters\":[],\"isRetracted\":false,\"mix\":[],\"name\":\"Syringe_2\",\"number\":2,\"offsets\":[-1.000,35.200,-178.500,0],\"offsetsProbed\":0,\"retraction\":{\"extraRestart\":0,\"length\":2.0,\"speed\":16.7,\"unretractSpeed\":16.7,\"zHop\":0},\"spindle\":-1,\"spindleRpm\":0,\"standby\":[],\"state\":\"active\"},{\"active\":[],\"axes\":[[0],[1]],\"extruders\":[],\"fans\":[0],\"feedForward\":[],\"filamentExtruder\":-1,\"heaters\":[],\"isRetracted\":false,\"mix\":[],\"name\":\"Syringe_3\",\"number\":3,\"offsets\":[-1.500,31.700,-168.000,0],\"offsetsProbed\":0,\"retraction\":{\"extraRestart\":0,\"length\":2.0,\"speed\":16.7,\"unretractSpeed\":16.7,\"zHop\":0},\"spindle\":-1,\"spindleRpm\":0,\"standby\":[],\"state\":\"off\"},{\"active\":[],\"axes\":[[0],[1]],\"extruders\":[],\"fans\":[0],\"feedForward\":[],\"filamentExtruder\":-1,\"heaters\":[],\"isRetracted\":false,\"mix\":[],\"name\":\"Syringe_4\",\"number\":4,\"offsets\":[-3.300,31.300,-168.750,0],\"offsetsProbed\":0,\"retraction\":{\"extraRestart\":0,\"length\":2.0,\"speed\":16.7,\"unretractSpeed\":16.7,\"zHop\":0},\"spindle\":-1,\"spindleRpm\":0,\"standby\":[],\"state\":\"standby\"}],\"next\":0}\n",
      "\n"
     ]
    }
   ],
   "source": [
    "jubilee.load_tool(syringe_10)\n",
    "mix_syringe = syringe_10"
   ]
  },
  {
   "cell_type": "code",
   "execution_count": 14,
   "id": "bd31d7ac-8cf7-4b17-9252-8aaa30bb6c64",
   "metadata": {},
   "outputs": [
    {
     "data": {
      "text/plain": [
       "<science_jubilee.Machine.Machine at 0x7f592ff64890>"
      ]
     },
     "execution_count": 14,
     "metadata": {},
     "output_type": "execute_result"
    }
   ],
   "source": [
    "mix_syringe._machine"
   ]
  },
  {
   "cell_type": "code",
   "execution_count": 15,
   "id": "0a9f2e7d-5b56-4984-9820-23a536224b40",
   "metadata": {},
   "outputs": [
    {
     "name": "stdout",
     "output_type": "stream",
     "text": [
      "Loaded syringe, remaining volume 0 uL\n",
      "Loaded syringe, remaining volume 6200 uL\n"
     ]
    }
   ],
   "source": [
    "mix_syringe.load_syringe(0, mix_syringe.empty_position-1)\n",
    "mix_syringe.set_pulsewidth(mix_syringe.full_position+250, s = 500)\n",
    "mix_syringe.load_syringe(6200, mix_syringe.full_position+250)"
   ]
  },
  {
   "cell_type": "code",
   "execution_count": 16,
   "id": "d1af576a-8024-4187-a0b9-12c2f063e756",
   "metadata": {},
   "outputs": [
    {
     "name": "stdout",
     "output_type": "stream",
     "text": [
      "New manual offset applied to 20mlscintillation_12_wellplate_18000ul\n"
     ]
    }
   ],
   "source": [
    "samples = jubilee.load_labware('20mlscintillation_12_wellplate_18000ul.json', 2)\n",
    "samples.manual_offset([(31.1, 169.0), (121.1, 169.0), (121.1, 113.0)])"
   ]
  },
  {
   "cell_type": "code",
   "execution_count": 17,
   "id": "17837fc0-d6d8-4666-b0a5-4b488794ff37",
   "metadata": {},
   "outputs": [
    {
     "data": {
      "text/plain": [
       "'UP'"
      ]
     },
     "execution_count": 17,
     "metadata": {},
     "output_type": "execute_result"
    }
   ],
   "source": [
    "psl.arm_state"
   ]
  },
  {
   "cell_type": "code",
   "execution_count": 18,
   "id": "daffb8a1-c9fc-402b-a93f-44621a344aa2",
   "metadata": {},
   "outputs": [
    {
     "name": "stdout",
     "output_type": "stream",
     "text": [
      "status r code 200\n",
      "status:  b'[\"State: READY\",\"Arm State: UP\",\"Rinse 1 tank: 950 mL\",\"Rinse 2 tank: 950 mL\",\"Waste tank: 0 mL\",\"Relay status: {\\'arm-up\\': True, \\'arm-down\\': False, \\'rinse1\\': False, \\'rinse2\\': False, \\'blow\\': False, \\'piston-vent\\': True, \\'postsample\\': False}\",\"Not Rinsing\",\"No action yet...\"]\\n'\n"
     ]
    },
    {
     "data": {
      "text/plain": [
       "'READY'"
      ]
     },
     "execution_count": 18,
     "metadata": {},
     "output_type": "execute_result"
    }
   ],
   "source": [
    "psl.get_cell_state()"
   ]
  },
  {
   "cell_type": "code",
   "execution_count": 19,
   "id": "a882d17c-c5a4-4c60-9cb4-899702d1b309",
   "metadata": {},
   "outputs": [],
   "source": [
    "jubilee.load_tool(psl)"
   ]
  },
  {
   "cell_type": "code",
   "execution_count": null,
   "id": "848f3e17-0fd8-4056-acc1-3793843d7d20",
   "metadata": {
    "scrolled": true
   },
   "outputs": [],
   "source": [
    "psl.rinse_cell()"
   ]
  },
  {
   "cell_type": "code",
   "execution_count": 24,
   "id": "273cd07c-99b7-488f-a29a-9167b2786951",
   "metadata": {},
   "outputs": [],
   "source": [
    "psl.unpause_queue()"
   ]
  },
  {
   "cell_type": "code",
   "execution_count": null,
   "id": "c91beeaf-3609-4936-b9e4-02b4f72dbe38",
   "metadata": {},
   "outputs": [
    {
     "name": "stdout",
     "output_type": "stream",
     "text": [
      "status r code 200\n",
      "status:  b'[\"State: READY\",\"Arm State: UP\",\"Rinse 1 tank: 950 mL\",\"Rinse 2 tank: 950 mL\",\"Waste tank: 0 mL\",\"Relay status: {\\'arm-up\\': True, \\'arm-down\\': False, \\'rinse1\\': False, \\'rinse2\\': False, \\'blow\\': False, \\'piston-vent\\': True, \\'postsample\\': False}\",\"Not Rinsing\",\"No action yet...\"]\\n'\n",
      "status r code 200\n",
      "status:  b'[\"State: READY\",\"Arm State: UP\",\"Rinse 1 tank: 950 mL\",\"Rinse 2 tank: 950 mL\",\"Waste tank: 0 mL\",\"Relay status: {\\'arm-up\\': False, \\'arm-down\\': True, \\'rinse1\\': False, \\'rinse2\\': False, \\'blow\\': False, \\'piston-vent\\': True, \\'postsample\\': False}\",\"Not Rinsing\",\"No action yet...\"]\\n'\n",
      "status r code 200\n",
      "status:  b'[\"State: RINSING\",\"Arm State: DOWN\",\"Rinse 1 tank: 950 mL\",\"Rinse 2 tank: 950 mL\",\"Waste tank: 0 mL\",\"Relay status: {\\'arm-up\\': False, \\'arm-down\\': True, \\'rinse1\\': True, \\'rinse2\\': False, \\'blow\\': False, \\'piston-vent\\': False, \\'postsample\\': True}\",\"Rinse Program Step 0/6: rinse1 for 5s\",\"No action yet...\"]\\n'\n",
      "status r code 200\n",
      "status:  b'[\"State: RINSING\",\"Arm State: DOWN\",\"Rinse 1 tank: 950 mL\",\"Rinse 2 tank: 950 mL\",\"Waste tank: 0 mL\",\"Relay status: {\\'arm-up\\': False, \\'arm-down\\': True, \\'rinse1\\': True, \\'rinse2\\': False, \\'blow\\': False, \\'piston-vent\\': False, \\'postsample\\': True}\",\"Rinse Program Step 0/6: rinse1 for 5s\",\"No action yet...\"]\\n'\n",
      "status r code 200\n",
      "status:  b'[\"State: RINSING\",\"Arm State: DOWN\",\"Rinse 1 tank: 950 mL\",\"Rinse 2 tank: 950 mL\",\"Waste tank: 0 mL\",\"Relay status: {\\'arm-up\\': False, \\'arm-down\\': True, \\'rinse1\\': True, \\'rinse2\\': False, \\'blow\\': False, \\'piston-vent\\': False, \\'postsample\\': True}\",\"Rinse Program Step 0/6: rinse1 for 5s\",\"No action yet...\"]\\n'\n",
      "status r code 200\n",
      "status:  b'[\"State: RINSING\",\"Arm State: DOWN\",\"Rinse 1 tank: 950 mL\",\"Rinse 2 tank: 950 mL\",\"Waste tank: 0 mL\",\"Relay status: {\\'arm-up\\': False, \\'arm-down\\': True, \\'rinse1\\': True, \\'rinse2\\': False, \\'blow\\': False, \\'piston-vent\\': False, \\'postsample\\': True}\",\"Rinse Program Step 0/6: rinse1 for 5s\",\"No action yet...\"]\\n'\n",
      "status r code 200\n",
      "status:  b'[\"State: RINSING\",\"Arm State: DOWN\",\"Rinse 1 tank: 950 mL\",\"Rinse 2 tank: 950 mL\",\"Waste tank: 0 mL\",\"Relay status: {\\'arm-up\\': False, \\'arm-down\\': True, \\'rinse1\\': True, \\'rinse2\\': False, \\'blow\\': False, \\'piston-vent\\': False, \\'postsample\\': True}\",\"Rinse Program Step 0/6: rinse1 for 5s\",\"No action yet...\"]\\n'\n",
      "status r code 200\n",
      "status:  b'[\"State: RINSING\",\"Arm State: DOWN\",\"Rinse 1 tank: 950 mL\",\"Rinse 2 tank: 950 mL\",\"Waste tank: 0 mL\",\"Relay status: {\\'arm-up\\': False, \\'arm-down\\': True, \\'rinse1\\': False, \\'rinse2\\': False, \\'blow\\': False, \\'piston-vent\\': False, \\'postsample\\': True}\",\"Rinse Program Step 1/6: None for 2s\",\"No action yet...\"]\\n'\n",
      "status r code 200\n",
      "status:  b'[\"State: RINSING\",\"Arm State: DOWN\",\"Rinse 1 tank: 950 mL\",\"Rinse 2 tank: 950 mL\",\"Waste tank: 0 mL\",\"Relay status: {\\'arm-up\\': False, \\'arm-down\\': True, \\'rinse1\\': False, \\'rinse2\\': False, \\'blow\\': False, \\'piston-vent\\': False, \\'postsample\\': True}\",\"Rinse Program Step 1/6: None for 2s\",\"No action yet...\"]\\n'\n",
      "status r code 200\n",
      "status:  b'[\"State: RINSING\",\"Arm State: DOWN\",\"Rinse 1 tank: 950 mL\",\"Rinse 2 tank: 950 mL\",\"Waste tank: 0 mL\",\"Relay status: {\\'arm-up\\': False, \\'arm-down\\': True, \\'rinse1\\': False, \\'rinse2\\': True, \\'blow\\': False, \\'piston-vent\\': False, \\'postsample\\': True}\",\"Rinse Program Step 2/6: rinse2 for 5s\",\"No action yet...\"]\\n'\n",
      "status r code 200\n",
      "status:  b'[\"State: RINSING\",\"Arm State: DOWN\",\"Rinse 1 tank: 950 mL\",\"Rinse 2 tank: 950 mL\",\"Waste tank: 0 mL\",\"Relay status: {\\'arm-up\\': False, \\'arm-down\\': True, \\'rinse1\\': False, \\'rinse2\\': True, \\'blow\\': False, \\'piston-vent\\': False, \\'postsample\\': True}\",\"Rinse Program Step 2/6: rinse2 for 5s\",\"No action yet...\"]\\n'\n",
      "status r code 200\n",
      "status:  b'[\"State: RINSING\",\"Arm State: DOWN\",\"Rinse 1 tank: 950 mL\",\"Rinse 2 tank: 950 mL\",\"Waste tank: 0 mL\",\"Relay status: {\\'arm-up\\': False, \\'arm-down\\': True, \\'rinse1\\': False, \\'rinse2\\': True, \\'blow\\': False, \\'piston-vent\\': False, \\'postsample\\': True}\",\"Rinse Program Step 2/6: rinse2 for 5s\",\"No action yet...\"]\\n'\n",
      "status r code 200\n",
      "status:  b'[\"State: RINSING\",\"Arm State: DOWN\",\"Rinse 1 tank: 950 mL\",\"Rinse 2 tank: 950 mL\",\"Waste tank: 0 mL\",\"Relay status: {\\'arm-up\\': False, \\'arm-down\\': True, \\'rinse1\\': False, \\'rinse2\\': True, \\'blow\\': False, \\'piston-vent\\': False, \\'postsample\\': True}\",\"Rinse Program Step 2/6: rinse2 for 5s\",\"No action yet...\"]\\n'\n",
      "status r code 200\n",
      "status:  b'[\"State: RINSING\",\"Arm State: DOWN\",\"Rinse 1 tank: 950 mL\",\"Rinse 2 tank: 950 mL\",\"Waste tank: 0 mL\",\"Relay status: {\\'arm-up\\': False, \\'arm-down\\': True, \\'rinse1\\': False, \\'rinse2\\': True, \\'blow\\': False, \\'piston-vent\\': False, \\'postsample\\': True}\",\"Rinse Program Step 2/6: rinse2 for 5s\",\"No action yet...\"]\\n'\n",
      "status r code 200\n",
      "status:  b'[\"State: RINSING\",\"Arm State: DOWN\",\"Rinse 1 tank: 950 mL\",\"Rinse 2 tank: 950 mL\",\"Waste tank: 0 mL\",\"Relay status: {\\'arm-up\\': False, \\'arm-down\\': True, \\'rinse1\\': False, \\'rinse2\\': False, \\'blow\\': True, \\'piston-vent\\': False, \\'postsample\\': True}\",\"Rinse Program Step 3/6: blow for 5s\",\"No action yet...\"]\\n'\n",
      "status r code 200\n",
      "status:  b'[\"State: RINSING\",\"Arm State: DOWN\",\"Rinse 1 tank: 950 mL\",\"Rinse 2 tank: 950 mL\",\"Waste tank: 0 mL\",\"Relay status: {\\'arm-up\\': False, \\'arm-down\\': True, \\'rinse1\\': False, \\'rinse2\\': False, \\'blow\\': True, \\'piston-vent\\': False, \\'postsample\\': True}\",\"Rinse Program Step 3/6: blow for 5s\",\"No action yet...\"]\\n'\n",
      "status r code 200\n",
      "status:  b'[\"State: RINSING\",\"Arm State: DOWN\",\"Rinse 1 tank: 950 mL\",\"Rinse 2 tank: 950 mL\",\"Waste tank: 0 mL\",\"Relay status: {\\'arm-up\\': False, \\'arm-down\\': True, \\'rinse1\\': False, \\'rinse2\\': False, \\'blow\\': True, \\'piston-vent\\': False, \\'postsample\\': True}\",\"Rinse Program Step 3/6: blow for 5s\",\"No action yet...\"]\\n'\n",
      "status r code 200\n",
      "status:  b'[\"State: RINSING\",\"Arm State: DOWN\",\"Rinse 1 tank: 950 mL\",\"Rinse 2 tank: 950 mL\",\"Waste tank: 0 mL\",\"Relay status: {\\'arm-up\\': False, \\'arm-down\\': True, \\'rinse1\\': False, \\'rinse2\\': False, \\'blow\\': True, \\'piston-vent\\': False, \\'postsample\\': True}\",\"Rinse Program Step 3/6: blow for 5s\",\"No action yet...\"]\\n'\n",
      "status r code 200\n",
      "status:  b'[\"State: RINSING\",\"Arm State: DOWN\",\"Rinse 1 tank: 950 mL\",\"Rinse 2 tank: 950 mL\",\"Waste tank: 0 mL\",\"Relay status: {\\'arm-up\\': False, \\'arm-down\\': True, \\'rinse1\\': False, \\'rinse2\\': False, \\'blow\\': True, \\'piston-vent\\': False, \\'postsample\\': True}\",\"Rinse Program Step 3/6: blow for 5s\",\"No action yet...\"]\\n'\n",
      "status r code 200\n",
      "status:  b'[\"State: RINSING\",\"Arm State: DOWN\",\"Rinse 1 tank: 950 mL\",\"Rinse 2 tank: 950 mL\",\"Waste tank: 0 mL\",\"Relay status: {\\'arm-up\\': False, \\'arm-down\\': True, \\'rinse1\\': False, \\'rinse2\\': False, \\'blow\\': True, \\'piston-vent\\': False, \\'postsample\\': True}\",\"Rinse Program Step 5/6: blow for 5s\",\"No action yet...\"]\\n'\n",
      "status r code 200\n",
      "status:  b'[\"State: RINSING\",\"Arm State: DOWN\",\"Rinse 1 tank: 950 mL\",\"Rinse 2 tank: 950 mL\",\"Waste tank: 0 mL\",\"Relay status: {\\'arm-up\\': False, \\'arm-down\\': True, \\'rinse1\\': False, \\'rinse2\\': False, \\'blow\\': True, \\'piston-vent\\': False, \\'postsample\\': True}\",\"Rinse Program Step 5/6: blow for 5s\",\"No action yet...\"]\\n'\n",
      "status r code 200\n",
      "status:  b'[\"State: RINSING\",\"Arm State: DOWN\",\"Rinse 1 tank: 950 mL\",\"Rinse 2 tank: 950 mL\",\"Waste tank: 0 mL\",\"Relay status: {\\'arm-up\\': False, \\'arm-down\\': True, \\'rinse1\\': False, \\'rinse2\\': False, \\'blow\\': True, \\'piston-vent\\': False, \\'postsample\\': True}\",\"Rinse Program Step 5/6: blow for 5s\",\"No action yet...\"]\\n'\n",
      "status r code 200\n",
      "status:  b'[\"State: RINSING\",\"Arm State: DOWN\",\"Rinse 1 tank: 950 mL\",\"Rinse 2 tank: 950 mL\",\"Waste tank: 0 mL\",\"Relay status: {\\'arm-up\\': False, \\'arm-down\\': True, \\'rinse1\\': False, \\'rinse2\\': False, \\'blow\\': True, \\'piston-vent\\': False, \\'postsample\\': True}\",\"Rinse Program Step 5/6: blow for 5s\",\"No action yet...\"]\\n'\n",
      "status r code 200\n",
      "status:  b'[\"State: RINSING\",\"Arm State: DOWN\",\"Rinse 1 tank: 950 mL\",\"Rinse 2 tank: 950 mL\",\"Waste tank: 0 mL\",\"Relay status: {\\'arm-up\\': False, \\'arm-down\\': True, \\'rinse1\\': False, \\'rinse2\\': False, \\'blow\\': True, \\'piston-vent\\': False, \\'postsample\\': True}\",\"Rinse Program Step 5/6: blow for 5s\",\"No action yet...\"]\\n'\n",
      "status r code 200\n",
      "status:  b'[\"State: RINSING\",\"Arm State: DOWN\",\"Rinse 1 tank: 950 mL\",\"Rinse 2 tank: 950 mL\",\"Waste tank: 0 mL\",\"Relay status: {\\'arm-up\\': False, \\'arm-down\\': True, \\'rinse1\\': False, \\'rinse2\\': False, \\'blow\\': True, \\'piston-vent\\': False, \\'postsample\\': True}\",\"Rinse Program Step 5/6: blow for 5s\",\"No action yet...\"]\\n'\n",
      "status r code 200\n",
      "status:  b'[\"State: RINSED\",\"Arm State: DOWN\",\"Rinse 1 tank: 950 mL\",\"Rinse 2 tank: 950 mL\",\"Waste tank: 0 mL\",\"Relay status: {\\'arm-up\\': False, \\'arm-down\\': True, \\'rinse1\\': False, \\'rinse2\\': False, \\'blow\\': False, \\'piston-vent\\': False, \\'postsample\\': False}\",\"Not Rinsing\",\"No action yet...\"]\\n'\n",
      "response text in gcode:  \n",
      "\n",
      "response text in gcode:  \n",
      "\n",
      "response text in gcode:  \n",
      "\n",
      "status r code 200\n",
      "status:  b'[\"State: RINSED\",\"Arm State: DOWN\",\"Rinse 1 tank: 950 mL\",\"Rinse 2 tank: 950 mL\",\"Waste tank: 0 mL\",\"Relay status: {\\'arm-up\\': False, \\'arm-down\\': True, \\'rinse1\\': False, \\'rinse2\\': False, \\'blow\\': False, \\'piston-vent\\': False, \\'postsample\\': False}\",\"Not Rinsing\",\"No action yet...\"]\\n'\n",
      "status r code 200\n",
      "status:  b'[\"State: READY\",\"Arm State: UP\",\"Rinse 1 tank: 950 mL\",\"Rinse 2 tank: 950 mL\",\"Waste tank: 0 mL\",\"Relay status: {\\'arm-up\\': True, \\'arm-down\\': False, \\'rinse1\\': False, \\'rinse2\\': False, \\'blow\\': False, \\'piston-vent\\': True, \\'postsample\\': False}\",\"Not Rinsing\",\"No action yet...\"]\\n'\n",
      "status r code 200\n",
      "status:  b'[\"State: READY\",\"Arm State: UP\",\"Rinse 1 tank: 950 mL\",\"Rinse 2 tank: 950 mL\",\"Waste tank: 0 mL\",\"Relay status: {\\'arm-up\\': True, \\'arm-down\\': False, \\'rinse1\\': False, \\'rinse2\\': False, \\'blow\\': False, \\'piston-vent\\': True, \\'postsample\\': False}\",\"Not Rinsing\",\"No action yet...\"]\\n'\n",
      "response text in gcode:  X:5.000 Y:200.000 Z:100.000 U:15.000 E:0.000 Count 34160 -31760 445600 459 Machine 6.000 164.800 278.500 15.000 Bed comp 0.000\n",
      "\n",
      "response text in gcode:  X:5.000 Y:200.000 Z:100.000 U:15.000 E:0.000 Count 34160 -31760 445600 459 Machine 6.000 164.800 278.500 15.000 Bed comp 0.000\n",
      "\n",
      "\n",
      "response text in gcode:  X:5.000 Y:200.000 Z:100.000 U:15.000 E:0.000 Count 34160 -31760 445600 459 Machine 6.000 164.800 278.500 15.000 Bed comp 0.000\n",
      "\n",
      "\n",
      "\n",
      "response text in gcode:  X:5.000 Y:200.000 Z:100.000 U:15.000 E:0.000 Count 34160 -31760 445600 459 Machine 6.000 164.800 278.500 15.000 Bed comp 0.000\n",
      "\n",
      "\n",
      "\n",
      "\n",
      "response text in gcode:  X:5.000 Y:200.000 Z:100.000 U:15.000 E:0.000 Count 34160 -31760 445600 459 Machine 6.000 164.800 278.500 15.000 Bed comp 0.000\n",
      "\n",
      "\n",
      "\n",
      "\n",
      "\n",
      "response text in gcode:  X:5.000 Y:200.000 Z:100.000 U:15.000 E:0.000 Count 34160 -31760 445600 459 Machine 6.000 164.800 278.500 15.000 Bed comp 0.000\n",
      "\n",
      "\n",
      "\n",
      "\n",
      "\n",
      "\n",
      "response text in gcode:  \n",
      "\n",
      "response text in gcode:  X:31.100 Y:169.000 Z:7.500 U:15.000 E:0.000 Count 33180 -20340 297600 459 Machine 32.100 133.800 186.000 15.000 Bed comp 0.000\n",
      "\n",
      "response text in gcode:  X:31.100 Y:169.000 Z:7.500 U:15.000 E:0.000 Count 33180 -20340 297600 459 Machine 32.100 133.800 186.000 15.000 Bed comp 0.000\n",
      "\n",
      "\n",
      "response text in gcode:  X:31.100 Y:169.000 Z:7.500 U:15.000 E:0.000 Count 33180 -20340 297600 459 Machine 32.100 133.800 186.000 15.000 Bed comp 0.000\n",
      "\n",
      "\n",
      "\n",
      "response text in gcode:  \n",
      "\n",
      "response text in gcode:  \n",
      "\n",
      "response text in gcode:  \n",
      "\n",
      "response text in gcode:  \n",
      "\n",
      "response text in gcode:  \n",
      "\n",
      "response text in gcode:  \n",
      "\n",
      "response text in gcode:  \n",
      "\n",
      "response text in gcode:  \n",
      "\n",
      "response text in gcode:  \n",
      "\n",
      "response text in gcode:  \n",
      "\n",
      "status r code 200\n",
      "status:  b'[\"State: READY\",\"Arm State: UP\",\"Rinse 1 tank: 950 mL\",\"Rinse 2 tank: 950 mL\",\"Waste tank: 0 mL\",\"Relay status: {\\'arm-up\\': True, \\'arm-down\\': False, \\'rinse1\\': False, \\'rinse2\\': False, \\'blow\\': False, \\'piston-vent\\': True, \\'postsample\\': False}\",\"Not Rinsing\",\"No action yet...\"]\\n'\n",
      "status r code 200\n",
      "status:  b'[\"State: LOAD IN PROGRESS\",\"Arm State: DOWN\",\"Rinse 1 tank: 950 mL\",\"Rinse 2 tank: 950 mL\",\"Waste tank: 0 mL\",\"Relay status: {\\'arm-up\\': False, \\'arm-down\\': True, \\'rinse1\\': False, \\'rinse2\\': False, \\'blow\\': False, \\'piston-vent\\': False, \\'postsample\\': True}\",\"Not Rinsing\",\"Taking baseline data for 3 s.\"]\\n'\n",
      "status r code 200\n",
      "status:  b'[\"State: LOAD IN PROGRESS\",\"Arm State: DOWN\",\"Rinse 1 tank: 950 mL\",\"Rinse 2 tank: 950 mL\",\"Waste tank: 0 mL\",\"Relay status: {\\'arm-up\\': False, \\'arm-down\\': True, \\'rinse1\\': False, \\'rinse2\\': False, \\'blow\\': False, \\'piston-vent\\': False, \\'postsample\\': True}\",\"Not Rinsing\",\"Taking baseline data for 3 s.\"]\\n'\n",
      "status r code 200\n",
      "status:  b'[\"State: LOAD IN PROGRESS\",\"Arm State: DOWN\",\"Rinse 1 tank: 950 mL\",\"Rinse 2 tank: 950 mL\",\"Waste tank: 0 mL\",\"Relay status: {\\'arm-up\\': False, \\'arm-down\\': True, \\'rinse1\\': False, \\'rinse2\\': False, \\'blow\\': False, \\'piston-vent\\': False, \\'postsample\\': True}\",\"Not Rinsing\",\"Taking baseline data for 3 s.\"]\\n'\n",
      "status r code 200\n",
      "status:  b'[\"State: LOAD IN PROGRESS\",\"Arm State: DOWN\",\"Rinse 1 tank: 950 mL\",\"Rinse 2 tank: 950 mL\",\"Waste tank: 0 mL\",\"Relay status: {\\'arm-up\\': False, \\'arm-down\\': True, \\'rinse1\\': False, \\'rinse2\\': False, \\'blow\\': False, \\'piston-vent\\': False, \\'postsample\\': True}\",\"Not Rinsing\",\"Found baseline at 1.8706042671203613\"]\\n'\n",
      "status r code 200\n",
      "status:  b'[\"State: LOAD IN PROGRESS\",\"Arm State: DOWN\",\"Rinse 1 tank: 950 mL\",\"Rinse 2 tank: 950 mL\",\"Waste tank: 0 mL\",\"Relay status: {\\'arm-up\\': False, \\'arm-down\\': True, \\'rinse1\\': False, \\'rinse2\\': False, \\'blow\\': False, \\'piston-vent\\': False, \\'postsample\\': True}\",\"Not Rinsing\",\"Found baseline at 1.8706042671203613\"]\\n'\n",
      "status r code 200\n",
      "status:  b'[\"State: LOAD IN PROGRESS\",\"Arm State: DOWN\",\"Rinse 1 tank: 950 mL\",\"Rinse 2 tank: 950 mL\",\"Waste tank: 0 mL\",\"Relay status: {\\'arm-up\\': False, \\'arm-down\\': True, \\'rinse1\\': False, \\'rinse2\\': False, \\'blow\\': False, \\'piston-vent\\': False, \\'postsample\\': True}\",\"Not Rinsing\",\"Found baseline at 1.8706042671203613\"]\\n'\n",
      "status r code 200\n",
      "status:  b'[\"State: LOAD IN PROGRESS\",\"Arm State: DOWN\",\"Rinse 1 tank: 950 mL\",\"Rinse 2 tank: 950 mL\",\"Waste tank: 0 mL\",\"Relay status: {\\'arm-up\\': False, \\'arm-down\\': True, \\'rinse1\\': False, \\'rinse2\\': False, \\'blow\\': False, \\'piston-vent\\': False, \\'postsample\\': True}\",\"Not Rinsing\",\"Found baseline at 1.8706042671203613\"]\\n'\n",
      "status r code 200\n",
      "status:  b'[\"State: LOAD IN PROGRESS\",\"Arm State: DOWN\",\"Rinse 1 tank: 950 mL\",\"Rinse 2 tank: 950 mL\",\"Waste tank: 0 mL\",\"Relay status: {\\'arm-up\\': False, \\'arm-down\\': True, \\'rinse1\\': False, \\'rinse2\\': False, \\'blow\\': False, \\'piston-vent\\': False, \\'postsample\\': True}\",\"Not Rinsing\",\"Found baseline at 1.8706042671203613\"]\\n'\n",
      "status r code 200\n",
      "status:  b'[\"State: LOAD IN PROGRESS\",\"Arm State: DOWN\",\"Rinse 1 tank: 950 mL\",\"Rinse 2 tank: 950 mL\",\"Waste tank: 0 mL\",\"Relay status: {\\'arm-up\\': False, \\'arm-down\\': True, \\'rinse1\\': False, \\'rinse2\\': False, \\'blow\\': False, \\'piston-vent\\': False, \\'postsample\\': True}\",\"Not Rinsing\",\"Found baseline at 1.8706042671203613\"]\\n'\n",
      "status r code 200\n",
      "status:  b'[\"State: LOAD IN PROGRESS\",\"Arm State: DOWN\",\"Rinse 1 tank: 950 mL\",\"Rinse 2 tank: 950 mL\",\"Waste tank: 0 mL\",\"Relay status: {\\'arm-up\\': False, \\'arm-down\\': True, \\'rinse1\\': False, \\'rinse2\\': False, \\'blow\\': False, \\'piston-vent\\': False, \\'postsample\\': True}\",\"Not Rinsing\",\"Found baseline at 1.8706042671203613\"]\\n'\n",
      "status r code 200\n",
      "status:  b'[\"State: LOAD IN PROGRESS\",\"Arm State: DOWN\",\"Rinse 1 tank: 950 mL\",\"Rinse 2 tank: 950 mL\",\"Waste tank: 0 mL\",\"Relay status: {\\'arm-up\\': False, \\'arm-down\\': True, \\'rinse1\\': False, \\'rinse2\\': False, \\'blow\\': False, \\'piston-vent\\': False, \\'postsample\\': True}\",\"Not Rinsing\",\"Found baseline at 1.8706042671203613\"]\\n'\n",
      "status r code 200\n",
      "status:  b'[\"State: LOAD IN PROGRESS\",\"Arm State: DOWN\",\"Rinse 1 tank: 950 mL\",\"Rinse 2 tank: 950 mL\",\"Waste tank: 0 mL\",\"Relay status: {\\'arm-up\\': False, \\'arm-down\\': True, \\'rinse1\\': False, \\'rinse2\\': False, \\'blow\\': False, \\'piston-vent\\': False, \\'postsample\\': True}\",\"Not Rinsing\",\"Found baseline at 1.8706042671203613\"]\\n'\n",
      "status r code 200\n",
      "status:  b'[\"State: LOAD IN PROGRESS\",\"Arm State: DOWN\",\"Rinse 1 tank: 950 mL\",\"Rinse 2 tank: 950 mL\",\"Waste tank: 0 mL\",\"Relay status: {\\'arm-up\\': False, \\'arm-down\\': True, \\'rinse1\\': False, \\'rinse2\\': False, \\'blow\\': False, \\'piston-vent\\': False, \\'postsample\\': True}\",\"Not Rinsing\",\"Found baseline at 1.8706042671203613\"]\\n'\n",
      "status r code 200\n",
      "status:  b'[\"State: LOAD IN PROGRESS\",\"Arm State: DOWN\",\"Rinse 1 tank: 950 mL\",\"Rinse 2 tank: 950 mL\",\"Waste tank: 0 mL\",\"Relay status: {\\'arm-up\\': False, \\'arm-down\\': True, \\'rinse1\\': False, \\'rinse2\\': False, \\'blow\\': False, \\'piston-vent\\': False, \\'postsample\\': True}\",\"Not Rinsing\",\"Found baseline at 1.8706042671203613\"]\\n'\n",
      "status r code 200\n",
      "status:  b'[\"State: LOAD IN PROGRESS\",\"Arm State: DOWN\",\"Rinse 1 tank: 950 mL\",\"Rinse 2 tank: 950 mL\",\"Waste tank: 0 mL\",\"Relay status: {\\'arm-up\\': False, \\'arm-down\\': True, \\'rinse1\\': False, \\'rinse2\\': False, \\'blow\\': False, \\'piston-vent\\': False, \\'postsample\\': True}\",\"Not Rinsing\",\"Found baseline at 1.8706042671203613\"]\\n'\n",
      "status r code 200\n",
      "status:  b'[\"State: LOAD IN PROGRESS\",\"Arm State: DOWN\",\"Rinse 1 tank: 950 mL\",\"Rinse 2 tank: 950 mL\",\"Waste tank: 0 mL\",\"Relay status: {\\'arm-up\\': False, \\'arm-down\\': True, \\'rinse1\\': False, \\'rinse2\\': False, \\'blow\\': False, \\'piston-vent\\': False, \\'postsample\\': True}\",\"Not Rinsing\",\"Found baseline at 1.8706042671203613\"]\\n'\n",
      "status r code 200\n",
      "status:  b'[\"State: LOAD IN PROGRESS\",\"Arm State: DOWN\",\"Rinse 1 tank: 950 mL\",\"Rinse 2 tank: 950 mL\",\"Waste tank: 0 mL\",\"Relay status: {\\'arm-up\\': False, \\'arm-down\\': True, \\'rinse1\\': False, \\'rinse2\\': False, \\'blow\\': False, \\'piston-vent\\': False, \\'postsample\\': True}\",\"Not Rinsing\",\"Found baseline at 1.8706042671203613\"]\\n'\n",
      "status r code 200\n",
      "status:  b'[\"State: LOAD IN PROGRESS\",\"Arm State: DOWN\",\"Rinse 1 tank: 950 mL\",\"Rinse 2 tank: 950 mL\",\"Waste tank: 0 mL\",\"Relay status: {\\'arm-up\\': False, \\'arm-down\\': True, \\'rinse1\\': False, \\'rinse2\\': False, \\'blow\\': False, \\'piston-vent\\': False, \\'postsample\\': True}\",\"Not Rinsing\",\"Found baseline at 1.8706042671203613\"]\\n'\n",
      "status r code 200\n",
      "status:  b'[\"State: LOAD IN PROGRESS\",\"Arm State: DOWN\",\"Rinse 1 tank: 950 mL\",\"Rinse 2 tank: 950 mL\",\"Waste tank: 0 mL\",\"Relay status: {\\'arm-up\\': False, \\'arm-down\\': True, \\'rinse1\\': False, \\'rinse2\\': False, \\'blow\\': False, \\'piston-vent\\': False, \\'postsample\\': True}\",\"Not Rinsing\",\"Found baseline at 1.8706042671203613\"]\\n'\n",
      "status r code 200\n",
      "status:  b'[\"State: LOAD IN PROGRESS\",\"Arm State: DOWN\",\"Rinse 1 tank: 950 mL\",\"Rinse 2 tank: 950 mL\",\"Waste tank: 0 mL\",\"Relay status: {\\'arm-up\\': False, \\'arm-down\\': True, \\'rinse1\\': False, \\'rinse2\\': False, \\'blow\\': False, \\'piston-vent\\': False, \\'postsample\\': True}\",\"Not Rinsing\",\"Found baseline at 1.8706042671203613\"]\\n'\n",
      "status r code 200\n",
      "status:  b'[\"State: LOAD IN PROGRESS\",\"Arm State: DOWN\",\"Rinse 1 tank: 950 mL\",\"Rinse 2 tank: 950 mL\",\"Waste tank: 0 mL\",\"Relay status: {\\'arm-up\\': False, \\'arm-down\\': True, \\'rinse1\\': False, \\'rinse2\\': False, \\'blow\\': False, \\'piston-vent\\': False, \\'postsample\\': True}\",\"Not Rinsing\",\"Found baseline at 1.8706042671203613\"]\\n'\n",
      "status r code 200\n",
      "status:  b'[\"State: LOAD IN PROGRESS\",\"Arm State: DOWN\",\"Rinse 1 tank: 950 mL\",\"Rinse 2 tank: 950 mL\",\"Waste tank: 0 mL\",\"Relay status: {\\'arm-up\\': False, \\'arm-down\\': True, \\'rinse1\\': False, \\'rinse2\\': False, \\'blow\\': False, \\'piston-vent\\': False, \\'postsample\\': True}\",\"Not Rinsing\",\"Found baseline at 1.8706042671203613\"]\\n'\n",
      "status r code 200\n",
      "status:  b'[\"State: LOAD IN PROGRESS\",\"Arm State: DOWN\",\"Rinse 1 tank: 950 mL\",\"Rinse 2 tank: 950 mL\",\"Waste tank: 0 mL\",\"Relay status: {\\'arm-up\\': False, \\'arm-down\\': True, \\'rinse1\\': False, \\'rinse2\\': False, \\'blow\\': False, \\'piston-vent\\': False, \\'postsample\\': True}\",\"Not Rinsing\",\"Found baseline at 1.8706042671203613\"]\\n'\n",
      "status r code 200\n",
      "status:  b'[\"State: LOAD IN PROGRESS\",\"Arm State: DOWN\",\"Rinse 1 tank: 950 mL\",\"Rinse 2 tank: 950 mL\",\"Waste tank: 0 mL\",\"Relay status: {\\'arm-up\\': False, \\'arm-down\\': True, \\'rinse1\\': False, \\'rinse2\\': False, \\'blow\\': False, \\'piston-vent\\': False, \\'postsample\\': True}\",\"Not Rinsing\",\"Found baseline at 1.8706042671203613\"]\\n'\n",
      "status r code 200\n",
      "status:  b'[\"State: LOAD IN PROGRESS\",\"Arm State: DOWN\",\"Rinse 1 tank: 950 mL\",\"Rinse 2 tank: 950 mL\",\"Waste tank: 0 mL\",\"Relay status: {\\'arm-up\\': False, \\'arm-down\\': True, \\'rinse1\\': False, \\'rinse2\\': False, \\'blow\\': False, \\'piston-vent\\': False, \\'postsample\\': True}\",\"Not Rinsing\",\"Found baseline at 1.8706042671203613\"]\\n'\n",
      "status r code 200\n",
      "status:  b'[\"State: LOAD IN PROGRESS\",\"Arm State: DOWN\",\"Rinse 1 tank: 950 mL\",\"Rinse 2 tank: 950 mL\",\"Waste tank: 0 mL\",\"Relay status: {\\'arm-up\\': False, \\'arm-down\\': True, \\'rinse1\\': False, \\'rinse2\\': False, \\'blow\\': False, \\'piston-vent\\': False, \\'postsample\\': True}\",\"Not Rinsing\",\"Found baseline at 1.8706042671203613\"]\\n'\n",
      "status r code 200\n",
      "status:  b'[\"State: LOAD IN PROGRESS\",\"Arm State: DOWN\",\"Rinse 1 tank: 950 mL\",\"Rinse 2 tank: 950 mL\",\"Waste tank: 0 mL\",\"Relay status: {\\'arm-up\\': False, \\'arm-down\\': True, \\'rinse1\\': False, \\'rinse2\\': False, \\'blow\\': False, \\'piston-vent\\': False, \\'postsample\\': True}\",\"Not Rinsing\",\"Found baseline at 1.8706042671203613\"]\\n'\n",
      "status r code 200\n",
      "status:  b'[\"State: LOAD IN PROGRESS\",\"Arm State: DOWN\",\"Rinse 1 tank: 950 mL\",\"Rinse 2 tank: 950 mL\",\"Waste tank: 0 mL\",\"Relay status: {\\'arm-up\\': False, \\'arm-down\\': True, \\'rinse1\\': False, \\'rinse2\\': False, \\'blow\\': False, \\'piston-vent\\': False, \\'postsample\\': True}\",\"Not Rinsing\",\"Found baseline at 1.8706042671203613\"]\\n'\n",
      "status r code 200\n",
      "status:  b'[\"State: LOAD IN PROGRESS\",\"Arm State: DOWN\",\"Rinse 1 tank: 950 mL\",\"Rinse 2 tank: 950 mL\",\"Waste tank: 0 mL\",\"Relay status: {\\'arm-up\\': False, \\'arm-down\\': True, \\'rinse1\\': False, \\'rinse2\\': False, \\'blow\\': False, \\'piston-vent\\': False, \\'postsample\\': True}\",\"Not Rinsing\",\"Found baseline at 1.8706042671203613\"]\\n'\n",
      "status r code 200\n",
      "status:  b'[\"State: LOAD IN PROGRESS\",\"Arm State: DOWN\",\"Rinse 1 tank: 950 mL\",\"Rinse 2 tank: 950 mL\",\"Waste tank: 0 mL\",\"Relay status: {\\'arm-up\\': False, \\'arm-down\\': True, \\'rinse1\\': False, \\'rinse2\\': False, \\'blow\\': False, \\'piston-vent\\': False, \\'postsample\\': True}\",\"Not Rinsing\",\"Found baseline at 1.8706042671203613\"]\\n'\n",
      "status r code 200\n",
      "status:  b'[\"State: LOAD IN PROGRESS\",\"Arm State: DOWN\",\"Rinse 1 tank: 950 mL\",\"Rinse 2 tank: 950 mL\",\"Waste tank: 0 mL\",\"Relay status: {\\'arm-up\\': False, \\'arm-down\\': True, \\'rinse1\\': False, \\'rinse2\\': False, \\'blow\\': False, \\'piston-vent\\': False, \\'postsample\\': True}\",\"Not Rinsing\",\"Found baseline at 1.8706042671203613\"]\\n'\n",
      "status r code 200\n",
      "status:  b'[\"State: LOAD IN PROGRESS\",\"Arm State: DOWN\",\"Rinse 1 tank: 950 mL\",\"Rinse 2 tank: 950 mL\",\"Waste tank: 0 mL\",\"Relay status: {\\'arm-up\\': False, \\'arm-down\\': True, \\'rinse1\\': False, \\'rinse2\\': False, \\'blow\\': False, \\'piston-vent\\': False, \\'postsample\\': True}\",\"Not Rinsing\",\"Found baseline at 1.8706042671203613\"]\\n'\n",
      "status r code 200\n",
      "status:  b'[\"State: LOAD IN PROGRESS\",\"Arm State: DOWN\",\"Rinse 1 tank: 950 mL\",\"Rinse 2 tank: 950 mL\",\"Waste tank: 0 mL\",\"Relay status: {\\'arm-up\\': False, \\'arm-down\\': True, \\'rinse1\\': False, \\'rinse2\\': False, \\'blow\\': False, \\'piston-vent\\': False, \\'postsample\\': True}\",\"Not Rinsing\",\"Found baseline at 1.8706042671203613\"]\\n'\n",
      "status r code 200\n",
      "status:  b'[\"State: LOAD IN PROGRESS\",\"Arm State: DOWN\",\"Rinse 1 tank: 950 mL\",\"Rinse 2 tank: 950 mL\",\"Waste tank: 0 mL\",\"Relay status: {\\'arm-up\\': False, \\'arm-down\\': True, \\'rinse1\\': False, \\'rinse2\\': False, \\'blow\\': False, \\'piston-vent\\': False, \\'postsample\\': True}\",\"Not Rinsing\",\"Found baseline at 1.8706042671203613\"]\\n'\n",
      "status r code 200\n",
      "status:  b'[\"State: LOAD IN PROGRESS\",\"Arm State: DOWN\",\"Rinse 1 tank: 950 mL\",\"Rinse 2 tank: 950 mL\",\"Waste tank: 0 mL\",\"Relay status: {\\'arm-up\\': False, \\'arm-down\\': True, \\'rinse1\\': False, \\'rinse2\\': False, \\'blow\\': False, \\'piston-vent\\': False, \\'postsample\\': True}\",\"Not Rinsing\",\"Found baseline at 1.8706042671203613\"]\\n'\n",
      "status r code 200\n",
      "status:  b'[\"State: LOAD IN PROGRESS\",\"Arm State: DOWN\",\"Rinse 1 tank: 950 mL\",\"Rinse 2 tank: 950 mL\",\"Waste tank: 0 mL\",\"Relay status: {\\'arm-up\\': False, \\'arm-down\\': True, \\'rinse1\\': False, \\'rinse2\\': False, \\'blow\\': False, \\'piston-vent\\': False, \\'postsample\\': True}\",\"Not Rinsing\",\"Found baseline at 1.8706042671203613\"]\\n'\n",
      "status r code 200\n",
      "status:  b'[\"State: LOAD IN PROGRESS\",\"Arm State: DOWN\",\"Rinse 1 tank: 950 mL\",\"Rinse 2 tank: 950 mL\",\"Waste tank: 0 mL\",\"Relay status: {\\'arm-up\\': False, \\'arm-down\\': True, \\'rinse1\\': False, \\'rinse2\\': False, \\'blow\\': False, \\'piston-vent\\': False, \\'postsample\\': True}\",\"Not Rinsing\",\"Found baseline at 1.8706042671203613\"]\\n'\n",
      "status r code 200\n",
      "status:  b'[\"State: LOAD IN PROGRESS\",\"Arm State: DOWN\",\"Rinse 1 tank: 950 mL\",\"Rinse 2 tank: 950 mL\",\"Waste tank: 0 mL\",\"Relay status: {\\'arm-up\\': False, \\'arm-down\\': True, \\'rinse1\\': False, \\'rinse2\\': False, \\'blow\\': False, \\'piston-vent\\': False, \\'postsample\\': True}\",\"Not Rinsing\",\"Found baseline at 1.8706042671203613\"]\\n'\n",
      "status r code 200\n",
      "status:  b'[\"State: LOAD IN PROGRESS\",\"Arm State: DOWN\",\"Rinse 1 tank: 950 mL\",\"Rinse 2 tank: 950 mL\",\"Waste tank: 0 mL\",\"Relay status: {\\'arm-up\\': False, \\'arm-down\\': True, \\'rinse1\\': False, \\'rinse2\\': False, \\'blow\\': False, \\'piston-vent\\': False, \\'postsample\\': True}\",\"Not Rinsing\",\"Found baseline at 1.8706042671203613\"]\\n'\n",
      "status r code 200\n",
      "status:  b'[\"State: LOAD IN PROGRESS\",\"Arm State: DOWN\",\"Rinse 1 tank: 950 mL\",\"Rinse 2 tank: 950 mL\",\"Waste tank: 0 mL\",\"Relay status: {\\'arm-up\\': False, \\'arm-down\\': True, \\'rinse1\\': False, \\'rinse2\\': False, \\'blow\\': False, \\'piston-vent\\': False, \\'postsample\\': True}\",\"Not Rinsing\",\"Found baseline at 1.8706042671203613\"]\\n'\n",
      "status r code 200\n",
      "status:  b'[\"State: LOAD IN PROGRESS\",\"Arm State: DOWN\",\"Rinse 1 tank: 950 mL\",\"Rinse 2 tank: 950 mL\",\"Waste tank: 0 mL\",\"Relay status: {\\'arm-up\\': False, \\'arm-down\\': True, \\'rinse1\\': False, \\'rinse2\\': False, \\'blow\\': False, \\'piston-vent\\': False, \\'postsample\\': True}\",\"Not Rinsing\",\"Found baseline at 1.8706042671203613\"]\\n'\n",
      "status r code 200\n",
      "status:  b'[\"State: LOAD IN PROGRESS\",\"Arm State: DOWN\",\"Rinse 1 tank: 950 mL\",\"Rinse 2 tank: 950 mL\",\"Waste tank: 0 mL\",\"Relay status: {\\'arm-up\\': False, \\'arm-down\\': True, \\'rinse1\\': False, \\'rinse2\\': False, \\'blow\\': False, \\'piston-vent\\': False, \\'postsample\\': True}\",\"Not Rinsing\",\"Found baseline at 1.8706042671203613\"]\\n'\n",
      "status r code 200\n",
      "status:  b'[\"State: LOAD IN PROGRESS\",\"Arm State: DOWN\",\"Rinse 1 tank: 950 mL\",\"Rinse 2 tank: 950 mL\",\"Waste tank: 0 mL\",\"Relay status: {\\'arm-up\\': False, \\'arm-down\\': True, \\'rinse1\\': False, \\'rinse2\\': False, \\'blow\\': False, \\'piston-vent\\': False, \\'postsample\\': True}\",\"Not Rinsing\",\"Found baseline at 1.8706042671203613\"]\\n'\n",
      "status r code 200\n",
      "status:  b'[\"State: LOAD IN PROGRESS\",\"Arm State: DOWN\",\"Rinse 1 tank: 950 mL\",\"Rinse 2 tank: 950 mL\",\"Waste tank: 0 mL\",\"Relay status: {\\'arm-up\\': False, \\'arm-down\\': True, \\'rinse1\\': False, \\'rinse2\\': False, \\'blow\\': False, \\'piston-vent\\': False, \\'postsample\\': True}\",\"Not Rinsing\",\"Found baseline at 1.8706042671203613\"]\\n'\n",
      "status r code 200\n",
      "status:  b'[\"State: LOAD IN PROGRESS\",\"Arm State: DOWN\",\"Rinse 1 tank: 950 mL\",\"Rinse 2 tank: 950 mL\",\"Waste tank: 0 mL\",\"Relay status: {\\'arm-up\\': False, \\'arm-down\\': True, \\'rinse1\\': False, \\'rinse2\\': False, \\'blow\\': False, \\'piston-vent\\': False, \\'postsample\\': True}\",\"Not Rinsing\",\"Found baseline at 1.8706042671203613\"]\\n'\n",
      "status r code 200\n",
      "status:  b'[\"State: LOAD IN PROGRESS\",\"Arm State: DOWN\",\"Rinse 1 tank: 950 mL\",\"Rinse 2 tank: 950 mL\",\"Waste tank: 0 mL\",\"Relay status: {\\'arm-up\\': False, \\'arm-down\\': True, \\'rinse1\\': False, \\'rinse2\\': False, \\'blow\\': False, \\'piston-vent\\': False, \\'postsample\\': True}\",\"Not Rinsing\",\"Found baseline at 1.8706042671203613\"]\\n'\n",
      "status r code 200\n",
      "status:  b'[\"State: LOAD IN PROGRESS\",\"Arm State: DOWN\",\"Rinse 1 tank: 950 mL\",\"Rinse 2 tank: 950 mL\",\"Waste tank: 0 mL\",\"Relay status: {\\'arm-up\\': False, \\'arm-down\\': True, \\'rinse1\\': False, \\'rinse2\\': False, \\'blow\\': False, \\'piston-vent\\': False, \\'postsample\\': True}\",\"Not Rinsing\",\"Found baseline at 1.8706042671203613\"]\\n'\n",
      "status r code 200\n",
      "status:  b'[\"State: LOAD IN PROGRESS\",\"Arm State: DOWN\",\"Rinse 1 tank: 950 mL\",\"Rinse 2 tank: 950 mL\",\"Waste tank: 0 mL\",\"Relay status: {\\'arm-up\\': False, \\'arm-down\\': True, \\'rinse1\\': False, \\'rinse2\\': False, \\'blow\\': False, \\'piston-vent\\': False, \\'postsample\\': True}\",\"Not Rinsing\",\"Found baseline at 1.8706042671203613\"]\\n'\n",
      "status r code 200\n",
      "status:  b'[\"State: LOAD IN PROGRESS\",\"Arm State: DOWN\",\"Rinse 1 tank: 950 mL\",\"Rinse 2 tank: 950 mL\",\"Waste tank: 0 mL\",\"Relay status: {\\'arm-up\\': False, \\'arm-down\\': True, \\'rinse1\\': False, \\'rinse2\\': False, \\'blow\\': False, \\'piston-vent\\': False, \\'postsample\\': True}\",\"Not Rinsing\",\"Found baseline at 1.8706042671203613\"]\\n'\n",
      "status r code 200\n",
      "status:  b'[\"State: LOAD IN PROGRESS\",\"Arm State: DOWN\",\"Rinse 1 tank: 950 mL\",\"Rinse 2 tank: 950 mL\",\"Waste tank: 0 mL\",\"Relay status: {\\'arm-up\\': False, \\'arm-down\\': True, \\'rinse1\\': False, \\'rinse2\\': False, \\'blow\\': False, \\'piston-vent\\': False, \\'postsample\\': True}\",\"Not Rinsing\",\"Found baseline at 1.8706042671203613\"]\\n'\n",
      "status r code 200\n",
      "status:  b'[\"State: LOAD IN PROGRESS\",\"Arm State: DOWN\",\"Rinse 1 tank: 950 mL\",\"Rinse 2 tank: 950 mL\",\"Waste tank: 0 mL\",\"Relay status: {\\'arm-up\\': False, \\'arm-down\\': True, \\'rinse1\\': False, \\'rinse2\\': False, \\'blow\\': False, \\'piston-vent\\': False, \\'postsample\\': True}\",\"Not Rinsing\",\"Found baseline at 1.8706042671203613\"]\\n'\n",
      "status r code 200\n",
      "status:  b'[\"State: LOAD IN PROGRESS\",\"Arm State: DOWN\",\"Rinse 1 tank: 950 mL\",\"Rinse 2 tank: 950 mL\",\"Waste tank: 0 mL\",\"Relay status: {\\'arm-up\\': False, \\'arm-down\\': True, \\'rinse1\\': False, \\'rinse2\\': False, \\'blow\\': False, \\'piston-vent\\': False, \\'postsample\\': True}\",\"Not Rinsing\",\"Found baseline at 1.8706042671203613\"]\\n'\n",
      "status r code 200\n",
      "status:  b'[\"State: LOAD IN PROGRESS\",\"Arm State: DOWN\",\"Rinse 1 tank: 950 mL\",\"Rinse 2 tank: 950 mL\",\"Waste tank: 0 mL\",\"Relay status: {\\'arm-up\\': False, \\'arm-down\\': True, \\'rinse1\\': False, \\'rinse2\\': False, \\'blow\\': False, \\'piston-vent\\': False, \\'postsample\\': True}\",\"Not Rinsing\",\"Found baseline at 1.8706042671203613\"]\\n'\n",
      "status r code 200\n",
      "status:  b'[\"State: LOAD IN PROGRESS\",\"Arm State: DOWN\",\"Rinse 1 tank: 950 mL\",\"Rinse 2 tank: 950 mL\",\"Waste tank: 0 mL\",\"Relay status: {\\'arm-up\\': False, \\'arm-down\\': True, \\'rinse1\\': False, \\'rinse2\\': False, \\'blow\\': False, \\'piston-vent\\': False, \\'postsample\\': True}\",\"Not Rinsing\",\"Found baseline at 1.8706042671203613\"]\\n'\n",
      "status r code 200\n",
      "status:  b'[\"State: LOAD IN PROGRESS\",\"Arm State: DOWN\",\"Rinse 1 tank: 950 mL\",\"Rinse 2 tank: 950 mL\",\"Waste tank: 0 mL\",\"Relay status: {\\'arm-up\\': False, \\'arm-down\\': True, \\'rinse1\\': False, \\'rinse2\\': False, \\'blow\\': False, \\'piston-vent\\': False, \\'postsample\\': True}\",\"Not Rinsing\",\"Found baseline at 1.8706042671203613\"]\\n'\n",
      "status r code 200\n",
      "status:  b'[\"State: LOAD IN PROGRESS\",\"Arm State: DOWN\",\"Rinse 1 tank: 950 mL\",\"Rinse 2 tank: 950 mL\",\"Waste tank: 0 mL\",\"Relay status: {\\'arm-up\\': False, \\'arm-down\\': True, \\'rinse1\\': False, \\'rinse2\\': False, \\'blow\\': False, \\'piston-vent\\': False, \\'postsample\\': True}\",\"Not Rinsing\",\"Found baseline at 1.8706042671203613\"]\\n'\n",
      "status r code 200\n",
      "status:  b'[\"State: LOAD IN PROGRESS\",\"Arm State: DOWN\",\"Rinse 1 tank: 950 mL\",\"Rinse 2 tank: 950 mL\",\"Waste tank: 0 mL\",\"Relay status: {\\'arm-up\\': False, \\'arm-down\\': True, \\'rinse1\\': False, \\'rinse2\\': False, \\'blow\\': False, \\'piston-vent\\': False, \\'postsample\\': True}\",\"Not Rinsing\",\"Found baseline at 1.8706042671203613\"]\\n'\n",
      "status r code 200\n",
      "status:  b'[\"State: LOAD IN PROGRESS\",\"Arm State: DOWN\",\"Rinse 1 tank: 950 mL\",\"Rinse 2 tank: 950 mL\",\"Waste tank: 0 mL\",\"Relay status: {\\'arm-up\\': False, \\'arm-down\\': True, \\'rinse1\\': False, \\'rinse2\\': False, \\'blow\\': False, \\'piston-vent\\': False, \\'postsample\\': True}\",\"Not Rinsing\",\"Found baseline at 1.8706042671203613\"]\\n'\n",
      "status r code 200\n",
      "status:  b'[\"State: LOAD IN PROGRESS\",\"Arm State: DOWN\",\"Rinse 1 tank: 950 mL\",\"Rinse 2 tank: 950 mL\",\"Waste tank: 0 mL\",\"Relay status: {\\'arm-up\\': False, \\'arm-down\\': True, \\'rinse1\\': False, \\'rinse2\\': False, \\'blow\\': False, \\'piston-vent\\': False, \\'postsample\\': True}\",\"Not Rinsing\",\"Found baseline at 1.8706042671203613\"]\\n'\n",
      "status r code 200\n",
      "status:  b'[\"State: LOAD IN PROGRESS\",\"Arm State: DOWN\",\"Rinse 1 tank: 950 mL\",\"Rinse 2 tank: 950 mL\",\"Waste tank: 0 mL\",\"Relay status: {\\'arm-up\\': False, \\'arm-down\\': True, \\'rinse1\\': False, \\'rinse2\\': False, \\'blow\\': False, \\'piston-vent\\': False, \\'postsample\\': True}\",\"Not Rinsing\",\"Found baseline at 1.8706042671203613\"]\\n'\n",
      "status r code 200\n",
      "status:  b'[\"State: LOAD IN PROGRESS\",\"Arm State: DOWN\",\"Rinse 1 tank: 950 mL\",\"Rinse 2 tank: 950 mL\",\"Waste tank: 0 mL\",\"Relay status: {\\'arm-up\\': False, \\'arm-down\\': True, \\'rinse1\\': False, \\'rinse2\\': False, \\'blow\\': False, \\'piston-vent\\': False, \\'postsample\\': True}\",\"Not Rinsing\",\"Found baseline at 1.8706042671203613\"]\\n'\n",
      "status r code 200\n",
      "status:  b'[\"State: LOAD IN PROGRESS\",\"Arm State: DOWN\",\"Rinse 1 tank: 950 mL\",\"Rinse 2 tank: 950 mL\",\"Waste tank: 0 mL\",\"Relay status: {\\'arm-up\\': False, \\'arm-down\\': True, \\'rinse1\\': False, \\'rinse2\\': False, \\'blow\\': False, \\'piston-vent\\': False, \\'postsample\\': True}\",\"Not Rinsing\",\"Found baseline at 1.8706042671203613\"]\\n'\n",
      "status r code 200\n",
      "status:  b'[\"State: LOAD IN PROGRESS\",\"Arm State: DOWN\",\"Rinse 1 tank: 950 mL\",\"Rinse 2 tank: 950 mL\",\"Waste tank: 0 mL\",\"Relay status: {\\'arm-up\\': False, \\'arm-down\\': True, \\'rinse1\\': False, \\'rinse2\\': False, \\'blow\\': False, \\'piston-vent\\': False, \\'postsample\\': True}\",\"Not Rinsing\",\"Found baseline at 1.8706042671203613\"]\\n'\n",
      "status r code 200\n",
      "status:  b'[\"State: LOAD IN PROGRESS\",\"Arm State: DOWN\",\"Rinse 1 tank: 950 mL\",\"Rinse 2 tank: 950 mL\",\"Waste tank: 0 mL\",\"Relay status: {\\'arm-up\\': False, \\'arm-down\\': True, \\'rinse1\\': False, \\'rinse2\\': False, \\'blow\\': False, \\'piston-vent\\': False, \\'postsample\\': True}\",\"Not Rinsing\",\"Found baseline at 1.8706042671203613\"]\\n'\n",
      "status r code 200\n",
      "status:  b'[\"State: LOAD IN PROGRESS\",\"Arm State: DOWN\",\"Rinse 1 tank: 950 mL\",\"Rinse 2 tank: 950 mL\",\"Waste tank: 0 mL\",\"Relay status: {\\'arm-up\\': False, \\'arm-down\\': True, \\'rinse1\\': False, \\'rinse2\\': False, \\'blow\\': False, \\'piston-vent\\': False, \\'postsample\\': True}\",\"Not Rinsing\",\"Found baseline at 1.8706042671203613\"]\\n'\n",
      "status r code 200\n",
      "status:  b'[\"State: LOAD IN PROGRESS\",\"Arm State: DOWN\",\"Rinse 1 tank: 950 mL\",\"Rinse 2 tank: 950 mL\",\"Waste tank: 0 mL\",\"Relay status: {\\'arm-up\\': False, \\'arm-down\\': True, \\'rinse1\\': False, \\'rinse2\\': False, \\'blow\\': False, \\'piston-vent\\': False, \\'postsample\\': True}\",\"Not Rinsing\",\"Found baseline at 1.8706042671203613\"]\\n'\n",
      "status r code 200\n",
      "status:  b'[\"State: LOAD IN PROGRESS\",\"Arm State: DOWN\",\"Rinse 1 tank: 950 mL\",\"Rinse 2 tank: 950 mL\",\"Waste tank: 0 mL\",\"Relay status: {\\'arm-up\\': False, \\'arm-down\\': True, \\'rinse1\\': False, \\'rinse2\\': False, \\'blow\\': False, \\'piston-vent\\': False, \\'postsample\\': True}\",\"Not Rinsing\",\"Found baseline at 1.8706042671203613\"]\\n'\n",
      "status r code 200\n",
      "status:  b'[\"State: LOAD IN PROGRESS\",\"Arm State: DOWN\",\"Rinse 1 tank: 950 mL\",\"Rinse 2 tank: 950 mL\",\"Waste tank: 0 mL\",\"Relay status: {\\'arm-up\\': False, \\'arm-down\\': True, \\'rinse1\\': False, \\'rinse2\\': False, \\'blow\\': False, \\'piston-vent\\': False, \\'postsample\\': True}\",\"Not Rinsing\",\"Found baseline at 1.8706042671203613\"]\\n'\n",
      "status r code 200\n",
      "status:  b'[\"State: LOAD IN PROGRESS\",\"Arm State: DOWN\",\"Rinse 1 tank: 950 mL\",\"Rinse 2 tank: 950 mL\",\"Waste tank: 0 mL\",\"Relay status: {\\'arm-up\\': False, \\'arm-down\\': True, \\'rinse1\\': False, \\'rinse2\\': False, \\'blow\\': False, \\'piston-vent\\': False, \\'postsample\\': True}\",\"Not Rinsing\",\"Found baseline at 1.8706042671203613\"]\\n'\n",
      "status r code 200\n",
      "status:  b'[\"State: LOAD IN PROGRESS\",\"Arm State: DOWN\",\"Rinse 1 tank: 950 mL\",\"Rinse 2 tank: 950 mL\",\"Waste tank: 0 mL\",\"Relay status: {\\'arm-up\\': False, \\'arm-down\\': True, \\'rinse1\\': False, \\'rinse2\\': False, \\'blow\\': False, \\'piston-vent\\': False, \\'postsample\\': True}\",\"Not Rinsing\",\"Found baseline at 1.8706042671203613\"]\\n'\n",
      "status r code 200\n",
      "status:  b'[\"State: LOAD IN PROGRESS\",\"Arm State: DOWN\",\"Rinse 1 tank: 950 mL\",\"Rinse 2 tank: 950 mL\",\"Waste tank: 0 mL\",\"Relay status: {\\'arm-up\\': False, \\'arm-down\\': True, \\'rinse1\\': False, \\'rinse2\\': False, \\'blow\\': False, \\'piston-vent\\': False, \\'postsample\\': True}\",\"Not Rinsing\",\"Found baseline at 1.8706042671203613\"]\\n'\n",
      "status r code 200\n",
      "status:  b'[\"State: LOAD IN PROGRESS\",\"Arm State: DOWN\",\"Rinse 1 tank: 950 mL\",\"Rinse 2 tank: 950 mL\",\"Waste tank: 0 mL\",\"Relay status: {\\'arm-up\\': False, \\'arm-down\\': True, \\'rinse1\\': False, \\'rinse2\\': False, \\'blow\\': False, \\'piston-vent\\': False, \\'postsample\\': True}\",\"Not Rinsing\",\"Found baseline at 1.8706042671203613\"]\\n'\n",
      "status r code 200\n",
      "status:  b'[\"State: LOAD IN PROGRESS\",\"Arm State: DOWN\",\"Rinse 1 tank: 950 mL\",\"Rinse 2 tank: 950 mL\",\"Waste tank: 0 mL\",\"Relay status: {\\'arm-up\\': False, \\'arm-down\\': True, \\'rinse1\\': False, \\'rinse2\\': False, \\'blow\\': False, \\'piston-vent\\': False, \\'postsample\\': True}\",\"Not Rinsing\",\"Found baseline at 1.8706042671203613\"]\\n'\n",
      "status r code 200\n",
      "status:  b'[\"State: LOAD IN PROGRESS\",\"Arm State: DOWN\",\"Rinse 1 tank: 950 mL\",\"Rinse 2 tank: 950 mL\",\"Waste tank: 0 mL\",\"Relay status: {\\'arm-up\\': False, \\'arm-down\\': True, \\'rinse1\\': False, \\'rinse2\\': False, \\'blow\\': False, \\'piston-vent\\': False, \\'postsample\\': True}\",\"Not Rinsing\",\"Found baseline at 1.8706042671203613\"]\\n'\n",
      "status r code 200\n",
      "status:  b'[\"State: LOAD IN PROGRESS\",\"Arm State: DOWN\",\"Rinse 1 tank: 950 mL\",\"Rinse 2 tank: 950 mL\",\"Waste tank: 0 mL\",\"Relay status: {\\'arm-up\\': False, \\'arm-down\\': True, \\'rinse1\\': False, \\'rinse2\\': False, \\'blow\\': False, \\'piston-vent\\': False, \\'postsample\\': True}\",\"Not Rinsing\",\"Found baseline at 1.8706042671203613\"]\\n'\n",
      "status r code 200\n",
      "status:  b'[\"State: LOAD IN PROGRESS\",\"Arm State: DOWN\",\"Rinse 1 tank: 950 mL\",\"Rinse 2 tank: 950 mL\",\"Waste tank: 0 mL\",\"Relay status: {\\'arm-up\\': False, \\'arm-down\\': True, \\'rinse1\\': False, \\'rinse2\\': False, \\'blow\\': False, \\'piston-vent\\': False, \\'postsample\\': True}\",\"Not Rinsing\",\"Found baseline at 1.8706042671203613\"]\\n'\n",
      "status r code 200\n",
      "status:  b'[\"State: LOAD IN PROGRESS\",\"Arm State: DOWN\",\"Rinse 1 tank: 950 mL\",\"Rinse 2 tank: 950 mL\",\"Waste tank: 0 mL\",\"Relay status: {\\'arm-up\\': False, \\'arm-down\\': True, \\'rinse1\\': False, \\'rinse2\\': False, \\'blow\\': False, \\'piston-vent\\': False, \\'postsample\\': True}\",\"Not Rinsing\",\"Found baseline at 1.8706042671203613\"]\\n'\n"
     ]
    }
   ],
   "source": [
    "psl.load_sample(mix_syringe, samples['A1'], 500)"
   ]
  },
  {
   "cell_type": "code",
   "execution_count": 35,
   "id": "30557731-5bbc-4b33-a8b9-e948a9d5a02b",
   "metadata": {},
   "outputs": [
    {
     "data": {
      "text/plain": [
       "dict_values([{'name': '10cc_1', 'tool': <science_jubilee.tools.HTTPSyringe.HTTPSyringe object at 0x7f07880784d0>}, {'name': 'PSL', 'tool': <science_jubilee.tools.PneumaticSampleLoader.PneumaticSampleLoader object at 0x7f07880f3810>}])"
      ]
     },
     "execution_count": 35,
     "metadata": {},
     "output_type": "execute_result"
    }
   ],
   "source": [
    "jubilee.tools.values()"
   ]
  },
  {
   "cell_type": "code",
   "execution_count": 37,
   "id": "47dc0b32-386a-4b98-8802-b2da34221818",
   "metadata": {},
   "outputs": [
    {
     "data": {
      "text/plain": [
       "2"
      ]
     },
     "execution_count": 37,
     "metadata": {},
     "output_type": "execute_result"
    }
   ],
   "source": [
    "mix_syringe.index"
   ]
  },
  {
   "cell_type": "code",
   "execution_count": null,
   "id": "53d43b74-3ea3-4849-b744-66799716f22b",
   "metadata": {},
   "outputs": [],
   "source": [
    "jubilee._get_tool_index(jubilee.active_tool_index"
   ]
  },
  {
   "cell_type": "code",
   "execution_count": 42,
   "id": "49f63190-5c2d-41a7-ab21-5faa7b3977b5",
   "metadata": {},
   "outputs": [
    {
     "name": "stdout",
     "output_type": "stream",
     "text": [
      "response text in gcode:  X:10.000 Y:200.000 Z:200.000 U:0.000 E:0.000 Count 42000 -38000 320000 0 Machine 10.000 200.000 200.000 0.000 Bed comp 0.000\n",
      "\n",
      "response text in gcode:  \n",
      "\n",
      "response text in gcode:  No tool is selected\n",
      "\n"
     ]
    }
   ],
   "source": [
    "jubilee.park_tool()"
   ]
  },
  {
   "cell_type": "code",
   "execution_count": 41,
   "id": "d997d68c-f007-4ca1-a6df-e0462443ba0f",
   "metadata": {},
   "outputs": [
    {
     "name": "stdout",
     "output_type": "stream",
     "text": [
      "response text in gcode:  No tool is selected\n",
      "\n"
     ]
    },
    {
     "data": {
      "text/plain": [
       "-1"
      ]
     },
     "execution_count": 41,
     "metadata": {},
     "output_type": "execute_result"
    }
   ],
   "source": [
    "jubilee.active_tool_index"
   ]
  },
  {
   "cell_type": "code",
   "execution_count": 20,
   "id": "8b900c5b-258d-40b0-aaa3-e921abe4e591",
   "metadata": {},
   "outputs": [
    {
     "name": "stdout",
     "output_type": "stream",
     "text": [
      "<science_jubilee.Machine.Machine object at 0x7f27e81871d0>\n"
     ]
    }
   ],
   "source": [
    "print(jubilee)"
   ]
  },
  {
   "cell_type": "code",
   "execution_count": 26,
   "id": "87aaa988-c7e8-47f3-a43d-3e6797308464",
   "metadata": {},
   "outputs": [
    {
     "data": {
      "text/plain": [
       "<requests.sessions.Session at 0x7f27e8187790>"
      ]
     },
     "execution_count": 26,
     "metadata": {},
     "output_type": "execute_result"
    }
   ],
   "source": [
    "jubilee.session"
   ]
  },
  {
   "cell_type": "code",
   "execution_count": null,
   "id": "6eb34c99-cd95-4152-aa64-e4d6b280449c",
   "metadata": {},
   "outputs": [],
   "source": []
  }
 ],
 "metadata": {
  "kernelspec": {
   "display_name": "Python 3 (ipykernel)",
   "language": "python",
   "name": "python3"
  },
  "language_info": {
   "codemirror_mode": {
    "name": "ipython",
    "version": 3
   },
   "file_extension": ".py",
   "mimetype": "text/x-python",
   "name": "python",
   "nbconvert_exporter": "python",
   "pygments_lexer": "ipython3",
   "version": "3.11.11"
  }
 },
 "nbformat": 4,
 "nbformat_minor": 5
}
