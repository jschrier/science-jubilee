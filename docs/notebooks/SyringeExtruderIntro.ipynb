{
 "cells": [
  {
   "cell_type": "markdown",
   "id": "14aef155",
   "metadata": {},
   "source": [
    "# Gel Printing!\n",
    "This notebook will introduce you to printing gels with the syringe tool!\n",
    "\n",
    "### Before Starting:\n",
    "Clear any existing items off the bed of your machine!"
   ]
  },
  {
   "cell_type": "code",
   "execution_count": null,
   "id": "27814519",
   "metadata": {
    "tags": []
   },
   "outputs": [],
   "source": [
    "from science_jubilee.Machine import Machine\n",
    "from science_jubilee.tools.SyringeExtruder import SyringeExtruder"
   ]
  },
  {
   "cell_type": "code",
   "execution_count": null,
   "id": "3dbe270e",
   "metadata": {
    "tags": []
   },
   "outputs": [],
   "source": [
    "m = Machine(address = \"192.168.1.2\")"
   ]
  },
  {
   "cell_type": "markdown",
   "id": "b0ef310a",
   "metadata": {},
   "source": [
    "The first thing you do is to home the machine, if you need to! Make sure the build plate is clear."
   ]
  },
  {
   "cell_type": "code",
   "execution_count": null,
   "id": "5ec81f1f",
   "metadata": {},
   "outputs": [],
   "source": [
    "# m.home_all() # uncomment and run this cell if you need to home the machine"
   ]
  },
  {
   "cell_type": "markdown",
   "id": "9ca64d11",
   "metadata": {},
   "source": [
    "Homing could take a minute."
   ]
  },
  {
   "cell_type": "markdown",
   "id": "916d2683",
   "metadata": {},
   "source": [
    "### Tool Setup\n",
    "To use your tool, you'll need to set a `tool_index` and a `tool_name`. These should be the same as the ones defined in your machine's `config.g` file that appear in the Duet Web Control panel.\n",
    "\n",
    "You will also import a configuration file for your syringe. We've already made one; it's called `10cc_syringe`"
   ]
  },
  {
   "cell_type": "code",
   "execution_count": 1,
   "id": "c747e1ff",
   "metadata": {},
   "outputs": [],
   "source": [
    "syringe_index = 10000           # change this number to match the tool number for the syringe on your machine!\n",
    "syringe_config = \"10cc_syringe\" # no need to change this\n",
    "syringe_name = \"Sryinge\"        # No need to change this"
   ]
  },
  {
   "cell_type": "code",
   "execution_count": null,
   "id": "97a7576e",
   "metadata": {
    "tags": []
   },
   "outputs": [],
   "source": [
    "syringe = SyringeExtruder(\n",
    "                        index = syringe_index,\n",
    "                        name = syringe_name,\n",
    "                        config = syringe_config\n",
    "                        )\n",
    "m.load_tool(syringe)"
   ]
  },
  {
   "cell_type": "markdown",
   "id": "330dc2ab",
   "metadata": {},
   "source": [
    "Next, prep your F-127 for the syringe - Danli and Blair can show you where this is!"
   ]
  },
  {
   "cell_type": "markdown",
   "id": "c1d72b53",
   "metadata": {},
   "source": [
    "## Setting the Tool Offset"
   ]
  },
  {
   "cell_type": "markdown",
   "id": "a179aba6",
   "metadata": {},
   "source": [
    "3D printing gel is very sensitive to the z offset (i.e. how close to the bed plate the tip of the nozzle is). The Z offset changes with the nozzle you're using, the length of the syringe, etc. Now we need to zero the nozzle tip and update the z offset.\n",
    "\n",
    "When printing gel, you can't just take the print off of the bed when it's complete. Instead, we can print on small glass plates. When we calibrate the z offset, we'll want to calibrate to the glass plate, not the bed itself.\n",
    "\n",
    "First, pick up the syringe"
   ]
  },
  {
   "cell_type": "code",
   "execution_count": null,
   "id": "ebb22a8c",
   "metadata": {
    "tags": []
   },
   "outputs": [],
   "source": [
    "# This cell will move the machine!\n",
    "m.pickup_tool(syringe)"
   ]
  },
  {
   "cell_type": "markdown",
   "id": "f413382e",
   "metadata": {},
   "source": [
    "The z offset on startup should be slightly higher than the actual z offset, this is to avoid collisions with the bed. You can read more on it on the [Jubilee wiki](https://jubilee3d.com/index.php?title=Setting_Tool_Offsets).\n",
    "Let's move to the current `Z = 0`."
   ]
  },
  {
   "cell_type": "code",
   "execution_count": null,
   "id": "db4a0cb4",
   "metadata": {
    "tags": []
   },
   "outputs": [],
   "source": [
    "# This cell will move the machine!\n",
    "m.move_to(x=150, y=150)\n",
    "m.move_to(z = 0)"
   ]
  },
  {
   "cell_type": "markdown",
   "id": "6ada4b7d",
   "metadata": {},
   "source": [
    "You'll see that z=0 is actually above the bed! Now we need to bring the tip of the syringe extruder into contact with the print bed by gradually decreasing the z value. You want the tip to be _just_ above the bed plate. Don't overshoot or you'll crash into the syringe!\n",
    "\n",
    "You can use the control panel in the DuetWebControl interface to do this if you like"
   ]
  },
  {
   "cell_type": "code",
   "execution_count": null,
   "id": "fd1fd95f-a2da-41c8-80d9-9c986bc85afd",
   "metadata": {
    "tags": []
   },
   "outputs": [],
   "source": [
    "z_offset = -1.5 # slowly make this a bigger negative number, or feel free use the duet web control panel\n",
    "m.move_to(z = z_offset)"
   ]
  },
  {
   "cell_type": "markdown",
   "id": "274f4188-70c3-46e5-bf63-07f25fe09702",
   "metadata": {},
   "source": [
    "We'll update the tool's z offset so that the 0 position is where you currently moved to. Note that everytime the mainboard restarts, it reads the config on the Duet board, which has the more conservative tool offset. \n",
    "\n",
    "\n",
    "Instead of changing the offset permanently, we'll temporarily change it until we restart the machine again. So, we should go through this process each time we add a new syringe tip.\n",
    "\n",
    "If you want to be able to take your print off the bed, be sure to put a glass plate down and calibrate to the height of the plate!"
   ]
  },
  {
   "cell_type": "code",
   "execution_count": null,
   "id": "1dada6f4-0112-4d72-8a8a-07480ef9beae",
   "metadata": {
    "tags": []
   },
   "outputs": [],
   "source": [
    "starting_offset = m.tool_z_offsets[m.active_tool_index] # this is the default value for this tool\n",
    "real_z_position = float(m.get_position()[\"Z\"])          # this is our current z position after calibration\n",
    "new_z_offset = starting_offset - real_z_position        # subtract the two to get the update z offset value\n",
    "\n",
    "# Update the tool offset\n",
    "m.set_tool_offset(tool_idx = m.active_tool_index, z = new_z_offset)"
   ]
  },
  {
   "cell_type": "code",
   "execution_count": null,
   "id": "9dfa5bbe-db3e-4fca-a625-a54507b93a60",
   "metadata": {
    "tags": []
   },
   "outputs": [],
   "source": [
    "# Our current z position should now be 0!\n",
    "m.get_position()['Z']"
   ]
  },
  {
   "cell_type": "markdown",
   "id": "641e9d57",
   "metadata": {},
   "source": [
    "Now we'll try printing a pre-sliced gcode file. Before loading your slicer-generated gcode file, it's a good practice to prime the nozzle - extrude a little bit of material so that the nozzle is filled and ready to print.\n",
    "\n",
    "Noted that the parameter of `move_extrude` is the length of the filament, i.e. the actual plunger movement. "
   ]
  },
  {
   "cell_type": "code",
   "execution_count": 1,
   "id": "f1fe6654-a5c5-4ba6-959b-3dd85c3d18fb",
   "metadata": {},
   "outputs": [],
   "source": [
    "# We'll return back to the first syringe to try printing something!\n",
    "m.pickup_tool(syringe_0)"
   ]
  },
  {
   "cell_type": "code",
   "execution_count": null,
   "id": "53a89f93",
   "metadata": {
    "tags": []
   },
   "outputs": [],
   "source": [
    "m.move_to(z = 25) # move the bed away if it's too close to the nozzle so that you can more easily clean ooze\n",
    "syringe_0.move_extrude(e=1) # you may need to re-run this cell several times, until the syringe starts oozing!"
   ]
  },
  {
   "cell_type": "markdown",
   "id": "15edf48b",
   "metadata": {},
   "source": [
    "These are some helper functions to load gcode and print gcode:"
   ]
  },
  {
   "cell_type": "code",
   "execution_count": null,
   "id": "5bba8d98-1620-4c6f-b070-b6f204e240bc",
   "metadata": {},
   "outputs": [],
   "source": [
    "# These functions will let us print a pre-sliced cylinder model\n",
    "# nothing will happen when your run this cell\n",
    "def load_gcode(file_path):\n",
    "    try:\n",
    "        lines = []\n",
    "        with open(file_path, 'r') as file:\n",
    "            for line in file:\n",
    "                lines.append(line.strip())\n",
    "        return lines\n",
    "    except FileNotFoundError:\n",
    "        print(f\"File '{file_path}' not found.\")\n",
    "        return None\n",
    "    except Exception as e:\n",
    "        print(f\"An error occurred: {e}\")\n",
    "        return None\n",
    "\n",
    "def print_gcode(gcode):\n",
    "    for line in gcode:\n",
    "        if len(line) > 0:\n",
    "            if not line.startswith(';'):\n",
    "                print(line)\n",
    "                m.gcode(line)"
   ]
  },
  {
   "cell_type": "markdown",
   "id": "b4563daa-a3eb-4ea9-aad4-15c3b2b1f1ce",
   "metadata": {},
   "source": [
    "Now try printing! When we start the print, the machine will first home the z axis to level the bed, and then it will start printing. \n",
    "\n",
    "_If you're using a glass plate, you should remove the plate while the machine is homing, and the put it back in place when the print starts!_ "
   ]
  },
  {
   "cell_type": "code",
   "execution_count": null,
   "id": "135ee2e0",
   "metadata": {},
   "outputs": [],
   "source": [
    "# Once you run this cell, the machine will start printing a small cylinder!\n",
    "# First it will park all tools and home the z axis\n",
    "# and then it will pick up the syringe and start printing\n",
    "# Position your glass plate in the center of after the machine is done homing if using\n",
    "# press the 'Stop' button in the top toolbar to stop the print\n",
    "gcode = load_gcode(\"cylinder-20mm.gcode\")\n",
    "print_gcode(gcode)"
   ]
  },
  {
   "cell_type": "markdown",
   "id": "4b158439-1e0e-4bc8-ad4c-74dd532766df",
   "metadata": {},
   "source": [
    "You might notice that it doesn't look great on your machine! This example was sliced with a bunch of default parameters like speed and extrusion. To tune your print, you may want to slice your own model and tune different settings; take a look at the README.md file for more information."
   ]
  },
  {
   "cell_type": "code",
   "execution_count": null,
   "id": "49f9d8a2",
   "metadata": {},
   "outputs": [],
   "source": [
    "m.park_tool()"
   ]
  },
  {
   "cell_type": "markdown",
   "id": "eeb289e2-f496-4d99-a9a9-8ebe76300168",
   "metadata": {},
   "source": [
    "## Other 3D Printing Options!\n",
    "With the syringe extruder tool, we can also directly specify simple toolpaths to print; this might be useful if you want to directly extrude in a particular location, or do other things of that nature\n",
    "\n",
    "Note that this functionality is quite basic, especially compared to built-in slicer features!"
   ]
  },
  {
   "cell_type": "markdown",
   "id": "170998be-e26a-49d2-b6ba-9431a5095eb7",
   "metadata": {},
   "source": [
    "### Test cube\n",
    "Here we'll print this test cube with a raised side:"
   ]
  },
  {
   "cell_type": "markdown",
   "id": "57184e9f-382a-478c-ad3c-aadd2c3b79e0",
   "metadata": {},
   "source": [
    "![cube.png](./images/gel-example.png)"
   ]
  },
  {
   "cell_type": "code",
   "execution_count": null,
   "id": "c6e0d8fb-a7b8-4a45-b94b-e5f8ed29df94",
   "metadata": {
    "tags": []
   },
   "outputs": [],
   "source": [
    "# Pick up your syringe\n",
    "m.pickup_tool(syringe_0)"
   ]
  },
  {
   "cell_type": "code",
   "execution_count": null,
   "id": "0703516d-d030-4292-9973-73bdb54e89de",
   "metadata": {
    "tags": []
   },
   "outputs": [],
   "source": [
    "# Set up some printing parameters\n",
    "# Change these if and as you'd like!\n",
    "z = 0              # starting z value\n",
    "layer_height = 0.2\n",
    "z_off = 0          # how much to offset one corner\n",
    "\n",
    "# put your glass plate at the center of the bed if using\n",
    "start_x = 150      # x start position\n",
    "start_y = 150      # y start position\n",
    "side_length = 20   # side length of the cube\n",
    "\n",
    "m.move_to(x=start_x, y=start_y, z=z)\n",
    "\n",
    "\n",
    "# the move_extrude command will extrude gel from the current position to the specified position\n",
    "# you can edit the extrusion multiplier if you'd like more/less gel extruded, or specify a speed to move at\n",
    "for layer in range(40):\n",
    "    syringe_0.move_extrude(x = start_x + side_length, y = start_y, z = z, multiplier = 1)\n",
    "    syringe_0.move_extrude(x = start_x + side_length, y = start_y - side_length, z = z + z_off, multiplier = 1)\n",
    "    syringe_0.move_extrude(x = start_x, y = start_y - side_length, z = z + z_off, multiplier = 1)\n",
    "    syringe_0.move_extrude(x = start_x, y =start_y, z = z, multiplier = 1)\n",
    "    z += layer_height\n",
    "    z_off += 0.1"
   ]
  }
 ],
 "metadata": {
  "kernelspec": {
   "display_name": "POSE25-311",
   "language": "python",
   "name": "pose25-311"
  },
  "language_info": {
   "codemirror_mode": {
    "name": "ipython",
    "version": 3
   },
   "file_extension": ".py",
   "mimetype": "text/x-python",
   "name": "python",
   "nbconvert_exporter": "python",
   "pygments_lexer": "ipython3",
   "version": "3.11.9"
  }
 },
 "nbformat": 4,
 "nbformat_minor": 5
}
